{
 "cells": [
  {
   "cell_type": "code",
   "execution_count": 1,
   "metadata": {},
   "outputs": [
    {
     "name": "stdout",
     "output_type": "stream",
     "text": [
      "Loading file: competition-gnt\\C001-f-f.gnt\n",
      "Loading file: competition-gnt\\C002-f-f.gnt\n",
      "Loading file: competition-gnt\\C003-f-f.gnt\n",
      "Loading file: competition-gnt\\C004-f-f.gnt\n",
      "Loading file: competition-gnt\\C005-f-f.gnt\n",
      "Loading file: competition-gnt\\C006-f-f.gnt\n",
      "Loading file: competition-gnt\\C007-f-f.gnt\n",
      "Loading file: competition-gnt\\C008-f-f.gnt\n",
      "Loading file: competition-gnt\\C009-f-f.gnt\n",
      "Loading file: competition-gnt\\C010-f-f.gnt\n",
      "Loading file: competition-gnt\\C011-f-f.gnt\n",
      "Loading file: competition-gnt\\C012-f-f.gnt\n",
      "Loading file: competition-gnt\\C013-f-f.gnt\n",
      "Loading file: competition-gnt\\C014-f-f.gnt\n",
      "Loading file: competition-gnt\\C015-f-f.gnt\n",
      "Loading file: competition-gnt\\C016-f-f.gnt\n",
      "Loading file: competition-gnt\\C017-f-f.gnt\n",
      "Loading file: competition-gnt\\C018-f-f.gnt\n",
      "Loading file: competition-gnt\\C019-f-f.gnt\n",
      "Loading file: competition-gnt\\C020-f-f.gnt\n",
      "Loading file: competition-gnt\\C021-f-f.gnt\n",
      "Loading file: competition-gnt\\C022-f-f.gnt\n",
      "Loading file: competition-gnt\\C023-f-f.gnt\n",
      "Loading file: competition-gnt\\C024-f-f.gnt\n",
      "Loading file: competition-gnt\\C025-f-f.gnt\n",
      "Loading file: competition-gnt\\C026-f-f.gnt\n",
      "Loading file: competition-gnt\\C027-f-f.gnt\n",
      "Loading file: competition-gnt\\C028-f-f.gnt\n",
      "Loading file: competition-gnt\\C029-f-f.gnt\n",
      "Loading file: competition-gnt\\C030-f-f.gnt\n",
      "Loading file: competition-gnt\\C031-f-f.gnt\n",
      "Loading file: competition-gnt\\C032-f-f.gnt\n",
      "Loading file: competition-gnt\\C033-f-f.gnt\n",
      "Loading file: competition-gnt\\C034-f-f.gnt\n",
      "Loading file: competition-gnt\\C035-f-f.gnt\n",
      "Loading file: competition-gnt\\C036-f-f.gnt\n",
      "Loading file: competition-gnt\\C037-f-f.gnt\n",
      "Loading file: competition-gnt\\C038-f-f.gnt\n",
      "Loading file: competition-gnt\\C039-f-f.gnt\n",
      "Loading file: competition-gnt\\C040-f-f.gnt\n",
      "Loading file: competition-gnt\\C041-f-f.gnt\n",
      "Loading file: competition-gnt\\C042-f-f.gnt\n",
      "Loading file: competition-gnt\\C043-f-f.gnt\n",
      "Loading file: competition-gnt\\C044-f-f.gnt\n",
      "Loading file: competition-gnt\\C045-f-f.gnt\n",
      "Loading file: competition-gnt\\C046-f-f.gnt\n",
      "Loading file: competition-gnt\\C047-f-f.gnt\n",
      "Loading file: competition-gnt\\C048-f-f.gnt\n",
      "Loading file: competition-gnt\\C049-f-f.gnt\n",
      "Loading file: competition-gnt\\C050-f-f.gnt\n",
      "Loading file: competition-gnt\\C051-f-f.gnt\n",
      "Loading file: competition-gnt\\C052-f-f.gnt\n",
      "Loading file: competition-gnt\\C053-f-f.gnt\n",
      "Loading file: competition-gnt\\C054-f-f.gnt\n",
      "Loading file: competition-gnt\\C055-f-f.gnt\n",
      "Loading file: competition-gnt\\C056-f-f.gnt\n",
      "Loading file: competition-gnt\\C057-f-f.gnt\n",
      "Loading file: competition-gnt\\C058-f-f.gnt\n",
      "Loading file: competition-gnt\\C059-f-f.gnt\n",
      "Loading file: competition-gnt\\C060-f-f.gnt\n",
      "Loading file: HWDB1.1trn_gnt_P2\\1121-c.gnt\n",
      "Loading file: HWDB1.1trn_gnt_P2\\1122-c.gnt\n",
      "Loading file: HWDB1.1trn_gnt_P2\\1123-c.gnt\n",
      "Loading file: HWDB1.1trn_gnt_P2\\1124-c.gnt\n",
      "Loading file: HWDB1.1trn_gnt_P2\\1125-c.gnt\n",
      "Loading file: HWDB1.1trn_gnt_P2\\1126-c.gnt\n",
      "Loading file: HWDB1.1trn_gnt_P2\\1127-c.gnt\n",
      "Loading file: HWDB1.1trn_gnt_P2\\1128-c.gnt\n",
      "Loading file: HWDB1.1trn_gnt_P2\\1129-c.gnt\n",
      "Loading file: HWDB1.1trn_gnt_P2\\1130-c.gnt\n",
      "Loading file: HWDB1.1trn_gnt_P2\\1131-c.gnt\n",
      "Loading file: HWDB1.1trn_gnt_P2\\1132-c.gnt\n",
      "Loading file: HWDB1.1trn_gnt_P2\\1133-c.gnt\n",
      "Loading file: HWDB1.1trn_gnt_P2\\1134-c.gnt\n",
      "Loading file: HWDB1.1trn_gnt_P2\\1135-c.gnt\n",
      "Loading file: HWDB1.1trn_gnt_P2\\1136-c.gnt\n",
      "Loading file: HWDB1.1trn_gnt_P2\\1137-c.gnt\n",
      "Loading file: HWDB1.1trn_gnt_P2\\1138-c.gnt\n",
      "Loading file: HWDB1.1trn_gnt_P2\\1139-c.gnt\n",
      "Loading file: HWDB1.1trn_gnt_P2\\1140-c.gnt\n",
      "Loading file: HWDB1.1trn_gnt_P2\\1141-c.gnt\n",
      "Loading file: HWDB1.1trn_gnt_P2\\1142-c.gnt\n",
      "Loading file: HWDB1.1trn_gnt_P2\\1143-c.gnt\n",
      "Loading file: HWDB1.1trn_gnt_P2\\1144-c.gnt\n",
      "Loading file: HWDB1.1trn_gnt_P2\\1145-c.gnt\n",
      "Loading file: HWDB1.1trn_gnt_P2\\1146-c.gnt\n",
      "Loading file: HWDB1.1trn_gnt_P2\\1147-c.gnt\n",
      "Loading file: HWDB1.1trn_gnt_P2\\1148-c.gnt\n",
      "Loading file: HWDB1.1trn_gnt_P2\\1149-c.gnt\n",
      "Loading file: HWDB1.1trn_gnt_P2\\1150-c.gnt\n",
      "Loading file: HWDB1.1trn_gnt_P2\\1151-c.gnt\n",
      "Loading file: HWDB1.1trn_gnt_P2\\1152-c.gnt\n",
      "Loading file: HWDB1.1trn_gnt_P2\\1153-c.gnt\n",
      "Loading file: HWDB1.1trn_gnt_P2\\1154-c.gnt\n",
      "Loading file: HWDB1.1trn_gnt_P2\\1155-c.gnt\n",
      "Loading file: HWDB1.1trn_gnt_P2\\1156-c.gnt\n",
      "Loading file: HWDB1.1trn_gnt_P2\\1157-c.gnt\n",
      "Loading file: HWDB1.1trn_gnt_P2\\1158-c.gnt\n",
      "Loading file: HWDB1.1trn_gnt_P2\\1159-c.gnt\n",
      "Loading file: HWDB1.1trn_gnt_P2\\1160-c.gnt\n",
      "Loading file: HWDB1.1trn_gnt_P2\\1161-c.gnt\n",
      "Loading file: HWDB1.1trn_gnt_P2\\1162-c.gnt\n",
      "Loading file: HWDB1.1trn_gnt_P2\\1163-c.gnt\n",
      "Loading file: HWDB1.1trn_gnt_P2\\1164-c.gnt\n",
      "Loading file: HWDB1.1trn_gnt_P2\\1165-c.gnt\n",
      "Loading file: HWDB1.1trn_gnt_P2\\1166-c.gnt\n",
      "Loading file: HWDB1.1trn_gnt_P2\\1167-c.gnt\n",
      "Loading file: HWDB1.1trn_gnt_P2\\1168-c.gnt\n",
      "Loading file: HWDB1.1trn_gnt_P2\\1169-c.gnt\n",
      "Loading file: HWDB1.1trn_gnt_P2\\1170-c.gnt\n",
      "Loading file: HWDB1.1trn_gnt_P2\\1171-c.gnt\n",
      "Loading file: HWDB1.1trn_gnt_P2\\1172-c.gnt\n",
      "Loading file: HWDB1.1trn_gnt_P2\\1173-c.gnt\n",
      "Loading file: HWDB1.1trn_gnt_P2\\1174-c.gnt\n",
      "Loading file: HWDB1.1trn_gnt_P2\\1175-c.gnt\n",
      "Loading file: HWDB1.1trn_gnt_P2\\1176-c.gnt\n",
      "Loading file: HWDB1.1trn_gnt_P2\\1177-c.gnt\n",
      "Loading file: HWDB1.1trn_gnt_P2\\1178-c.gnt\n",
      "Loading file: HWDB1.1trn_gnt_P2\\1179-c.gnt\n",
      "Loading file: HWDB1.1trn_gnt_P2\\1180-c.gnt\n",
      "Loading file: HWDB1.1trn_gnt_P2\\1181-c.gnt\n",
      "Loading file: HWDB1.1trn_gnt_P2\\1182-c.gnt\n",
      "Loading file: HWDB1.1trn_gnt_P2\\1183-c.gnt\n",
      "Loading file: HWDB1.1trn_gnt_P2\\1184-c.gnt\n",
      "Loading file: HWDB1.1trn_gnt_P2\\1185-c.gnt\n",
      "Loading file: HWDB1.1trn_gnt_P2\\1186-c.gnt\n",
      "Loading file: HWDB1.1trn_gnt_P2\\1187-c.gnt\n",
      "Loading file: HWDB1.1trn_gnt_P2\\1188-c.gnt\n",
      "Loading file: HWDB1.1trn_gnt_P2\\1189-c.gnt\n",
      "Loading file: HWDB1.1trn_gnt_P2\\1190-c.gnt\n",
      "Loading file: HWDB1.1trn_gnt_P2\\1191-c.gnt\n",
      "Loading file: HWDB1.1trn_gnt_P2\\1192-c.gnt\n",
      "Loading file: HWDB1.1trn_gnt_P2\\1193-c.gnt\n",
      "Loading file: HWDB1.1trn_gnt_P2\\1194-c.gnt\n",
      "Loading file: HWDB1.1trn_gnt_P2\\1195-c.gnt\n",
      "Loading file: HWDB1.1trn_gnt_P2\\1196-c.gnt\n",
      "Loading file: HWDB1.1trn_gnt_P2\\1197-c.gnt\n",
      "Loading file: HWDB1.1trn_gnt_P2\\1198-c.gnt\n",
      "Loading file: HWDB1.1trn_gnt_P2\\1199-c.gnt\n",
      "Loading file: HWDB1.1trn_gnt_P2\\1200-c.gnt\n",
      "Loading file: HWDB1.1trn_gnt_P2\\1201-c.gnt\n",
      "Loading file: HWDB1.1trn_gnt_P2\\1202-c.gnt\n",
      "Loading file: HWDB1.1trn_gnt_P2\\1203-c.gnt\n",
      "Loading file: HWDB1.1trn_gnt_P2\\1204-c.gnt\n",
      "Loading file: HWDB1.1trn_gnt_P2\\1205-c.gnt\n",
      "Loading file: HWDB1.1trn_gnt_P2\\1206-c.gnt\n",
      "Loading file: HWDB1.1trn_gnt_P2\\1207-c.gnt\n",
      "Loading file: HWDB1.1trn_gnt_P2\\1208-c.gnt\n",
      "Loading file: HWDB1.1trn_gnt_P2\\1209-c.gnt\n",
      "Loading file: HWDB1.1trn_gnt_P2\\1210-c.gnt\n",
      "Loading file: HWDB1.1trn_gnt_P2\\1211-c.gnt\n",
      "Loading file: HWDB1.1trn_gnt_P2\\1212-c.gnt\n",
      "Loading file: HWDB1.1trn_gnt_P2\\1213-c.gnt\n",
      "Loading file: HWDB1.1trn_gnt_P2\\1214-c.gnt\n",
      "Loading file: HWDB1.1trn_gnt_P2\\1215-c.gnt\n",
      "Loading file: HWDB1.1trn_gnt_P2\\1216-c.gnt\n",
      "Loading file: HWDB1.1trn_gnt_P2\\1217-c.gnt\n",
      "Loading file: HWDB1.1trn_gnt_P2\\1218-c.gnt\n",
      "Loading file: HWDB1.1trn_gnt_P2\\1219-c.gnt\n",
      "Loading file: HWDB1.1trn_gnt_P2\\1220-c.gnt\n",
      "Loading file: HWDB1.1trn_gnt_P2\\1221-c.gnt\n",
      "Loading file: HWDB1.1trn_gnt_P2\\1222-c.gnt\n",
      "Loading file: HWDB1.1trn_gnt_P2\\1223-c.gnt\n",
      "Loading file: HWDB1.1trn_gnt_P2\\1224-c.gnt\n",
      "Loading file: HWDB1.1trn_gnt_P2\\1225-c.gnt\n",
      "Loading file: HWDB1.1trn_gnt_P2\\1226-c.gnt\n",
      "Loading file: HWDB1.1trn_gnt_P2\\1227-c.gnt\n",
      "Loading file: HWDB1.1trn_gnt_P2\\1228-c.gnt\n",
      "Loading file: HWDB1.1trn_gnt_P2\\1229-c.gnt\n",
      "Loading file: HWDB1.1trn_gnt_P2\\1230-c.gnt\n",
      "Loading file: HWDB1.1trn_gnt_P2\\1231-c.gnt\n",
      "Loading file: HWDB1.1trn_gnt_P2\\1232-c.gnt\n",
      "Loading file: HWDB1.1trn_gnt_P2\\1233-c.gnt\n",
      "Loading file: HWDB1.1trn_gnt_P2\\1234-c.gnt\n",
      "Loading file: HWDB1.1trn_gnt_P2\\1235-c.gnt\n",
      "Loading file: HWDB1.1trn_gnt_P2\\1236-c.gnt\n",
      "Loading file: HWDB1.1trn_gnt_P2\\1237-c.gnt\n",
      "Loading file: HWDB1.1trn_gnt_P2\\1238-c.gnt\n",
      "Loading file: HWDB1.1trn_gnt_P2\\1239-c.gnt\n",
      "Loading file: HWDB1.1trn_gnt_P2\\1240-c.gnt\n",
      "Loading file: HWDB1.1trn_gnt_P1\\1001-c.gnt\n",
      "Loading file: HWDB1.1trn_gnt_P1\\1002-c.gnt\n",
      "Loading file: HWDB1.1trn_gnt_P1\\1003-c.gnt\n",
      "Loading file: HWDB1.1trn_gnt_P1\\1004-c.gnt\n",
      "Loading file: HWDB1.1trn_gnt_P1\\1005-c.gnt\n",
      "Loading file: HWDB1.1trn_gnt_P1\\1006-c.gnt\n",
      "Loading file: HWDB1.1trn_gnt_P1\\1007-c.gnt\n",
      "Loading file: HWDB1.1trn_gnt_P1\\1008-c.gnt\n",
      "Loading file: HWDB1.1trn_gnt_P1\\1009-c.gnt\n",
      "Loading file: HWDB1.1trn_gnt_P1\\1010-c.gnt\n"
     ]
    },
    {
     "name": "stdout",
     "output_type": "stream",
     "text": [
      "Loading file: HWDB1.1trn_gnt_P1\\1011-c.gnt\n",
      "Loading file: HWDB1.1trn_gnt_P1\\1012-c.gnt\n",
      "Loading file: HWDB1.1trn_gnt_P1\\1013-c.gnt\n",
      "Loading file: HWDB1.1trn_gnt_P1\\1014-c.gnt\n",
      "Loading file: HWDB1.1trn_gnt_P1\\1015-c.gnt\n",
      "Loading file: HWDB1.1trn_gnt_P1\\1016-c.gnt\n",
      "Loading file: HWDB1.1trn_gnt_P1\\1017-c.gnt\n",
      "Loading file: HWDB1.1trn_gnt_P1\\1018-c.gnt\n",
      "Loading file: HWDB1.1trn_gnt_P1\\1019-c.gnt\n",
      "Loading file: HWDB1.1trn_gnt_P1\\1020-c.gnt\n",
      "Loading file: HWDB1.1trn_gnt_P1\\1021-c.gnt\n",
      "Loading file: HWDB1.1trn_gnt_P1\\1022-c.gnt\n",
      "Loading file: HWDB1.1trn_gnt_P1\\1023-c.gnt\n",
      "Loading file: HWDB1.1trn_gnt_P1\\1024-c.gnt\n",
      "Loading file: HWDB1.1trn_gnt_P1\\1025-c.gnt\n",
      "Loading file: HWDB1.1trn_gnt_P1\\1026-c.gnt\n",
      "Loading file: HWDB1.1trn_gnt_P1\\1027-c.gnt\n",
      "Loading file: HWDB1.1trn_gnt_P1\\1028-c.gnt\n",
      "Loading file: HWDB1.1trn_gnt_P1\\1029-c.gnt\n",
      "Loading file: HWDB1.1trn_gnt_P1\\1030-c.gnt\n",
      "Loading file: HWDB1.1trn_gnt_P1\\1031-c.gnt\n",
      "Loading file: HWDB1.1trn_gnt_P1\\1032-c.gnt\n",
      "Loading file: HWDB1.1trn_gnt_P1\\1033-c.gnt\n",
      "Loading file: HWDB1.1trn_gnt_P1\\1034-c.gnt\n",
      "Loading file: HWDB1.1trn_gnt_P1\\1035-c.gnt\n",
      "Loading file: HWDB1.1trn_gnt_P1\\1036-c.gnt\n",
      "Loading file: HWDB1.1trn_gnt_P1\\1037-c.gnt\n",
      "Loading file: HWDB1.1trn_gnt_P1\\1038-c.gnt\n",
      "Loading file: HWDB1.1trn_gnt_P1\\1039-c.gnt\n",
      "Loading file: HWDB1.1trn_gnt_P1\\1040-c.gnt\n",
      "Loading file: HWDB1.1trn_gnt_P1\\1041-c.gnt\n",
      "Loading file: HWDB1.1trn_gnt_P1\\1042-c.gnt\n",
      "Loading file: HWDB1.1trn_gnt_P1\\1043-c.gnt\n",
      "Loading file: HWDB1.1trn_gnt_P1\\1044-c.gnt\n",
      "Loading file: HWDB1.1trn_gnt_P1\\1045-c.gnt\n",
      "Loading file: HWDB1.1trn_gnt_P1\\1046-c.gnt\n",
      "Loading file: HWDB1.1trn_gnt_P1\\1047-c.gnt\n",
      "Loading file: HWDB1.1trn_gnt_P1\\1048-c.gnt\n",
      "Loading file: HWDB1.1trn_gnt_P1\\1049-c.gnt\n",
      "Loading file: HWDB1.1trn_gnt_P1\\1050-c.gnt\n",
      "Loading file: HWDB1.1trn_gnt_P1\\1051-c.gnt\n",
      "Loading file: HWDB1.1trn_gnt_P1\\1052-c.gnt\n",
      "Loading file: HWDB1.1trn_gnt_P1\\1053-c.gnt\n",
      "Loading file: HWDB1.1trn_gnt_P1\\1054-c.gnt\n",
      "Loading file: HWDB1.1trn_gnt_P1\\1055-c.gnt\n",
      "Loading file: HWDB1.1trn_gnt_P1\\1056-c.gnt\n",
      "Loading file: HWDB1.1trn_gnt_P1\\1057-c.gnt\n",
      "Loading file: HWDB1.1trn_gnt_P1\\1058-c.gnt\n",
      "Loading file: HWDB1.1trn_gnt_P1\\1059-c.gnt\n",
      "Loading file: HWDB1.1trn_gnt_P1\\1060-c.gnt\n",
      "Loading file: HWDB1.1trn_gnt_P1\\1061-c.gnt\n",
      "Loading file: HWDB1.1trn_gnt_P1\\1062-c.gnt\n",
      "Loading file: HWDB1.1trn_gnt_P1\\1063-c.gnt\n",
      "Loading file: HWDB1.1trn_gnt_P1\\1064-c.gnt\n",
      "Loading file: HWDB1.1trn_gnt_P1\\1065-c.gnt\n",
      "Loading file: HWDB1.1trn_gnt_P1\\1066-c.gnt\n",
      "Loading file: HWDB1.1trn_gnt_P1\\1067-c.gnt\n",
      "Loading file: HWDB1.1trn_gnt_P1\\1068-c.gnt\n",
      "Loading file: HWDB1.1trn_gnt_P1\\1069-c.gnt\n",
      "Loading file: HWDB1.1trn_gnt_P1\\1070-c.gnt\n",
      "Loading file: HWDB1.1trn_gnt_P1\\1071-c.gnt\n",
      "Loading file: HWDB1.1trn_gnt_P1\\1072-c.gnt\n",
      "Loading file: HWDB1.1trn_gnt_P1\\1073-c.gnt\n",
      "Loading file: HWDB1.1trn_gnt_P1\\1074-c.gnt\n",
      "Loading file: HWDB1.1trn_gnt_P1\\1075-c.gnt\n",
      "Loading file: HWDB1.1trn_gnt_P1\\1076-c.gnt\n",
      "Loading file: HWDB1.1trn_gnt_P1\\1077-c.gnt\n",
      "Loading file: HWDB1.1trn_gnt_P1\\1078-c.gnt\n",
      "Loading file: HWDB1.1trn_gnt_P1\\1079-c.gnt\n",
      "Loading file: HWDB1.1trn_gnt_P1\\1080-c.gnt\n",
      "Loading file: HWDB1.1trn_gnt_P1\\1081-c.gnt\n",
      "Loading file: HWDB1.1trn_gnt_P1\\1082-c.gnt\n",
      "Loading file: HWDB1.1trn_gnt_P1\\1083-c.gnt\n",
      "Loading file: HWDB1.1trn_gnt_P1\\1084-c.gnt\n",
      "Loading file: HWDB1.1trn_gnt_P1\\1085-c.gnt\n",
      "Loading file: HWDB1.1trn_gnt_P1\\1086-c.gnt\n",
      "Loading file: HWDB1.1trn_gnt_P1\\1087-c.gnt\n",
      "Loading file: HWDB1.1trn_gnt_P1\\1088-c.gnt\n",
      "Loading file: HWDB1.1trn_gnt_P1\\1089-c.gnt\n",
      "Loading file: HWDB1.1trn_gnt_P1\\1090-c.gnt\n",
      "Loading file: HWDB1.1trn_gnt_P1\\1091-c.gnt\n",
      "Loading file: HWDB1.1trn_gnt_P1\\1092-c.gnt\n",
      "Loading file: HWDB1.1trn_gnt_P1\\1093-c.gnt\n",
      "Loading file: HWDB1.1trn_gnt_P1\\1094-c.gnt\n",
      "Loading file: HWDB1.1trn_gnt_P1\\1095-c.gnt\n",
      "Loading file: HWDB1.1trn_gnt_P1\\1096-c.gnt\n",
      "Loading file: HWDB1.1trn_gnt_P1\\1097-c.gnt\n",
      "Loading file: HWDB1.1trn_gnt_P1\\1098-c.gnt\n",
      "Loading file: HWDB1.1trn_gnt_P1\\1099-c.gnt\n",
      "Loading file: HWDB1.1trn_gnt_P1\\1100-c.gnt\n",
      "Loading file: HWDB1.1trn_gnt_P1\\1101-c.gnt\n",
      "Loading file: HWDB1.1trn_gnt_P1\\1102-c.gnt\n",
      "Loading file: HWDB1.1trn_gnt_P1\\1103-c.gnt\n",
      "Loading file: HWDB1.1trn_gnt_P1\\1104-c.gnt\n",
      "Loading file: HWDB1.1trn_gnt_P1\\1105-c.gnt\n",
      "Loading file: HWDB1.1trn_gnt_P1\\1106-c.gnt\n",
      "Loading file: HWDB1.1trn_gnt_P1\\1107-c.gnt\n",
      "Loading file: HWDB1.1trn_gnt_P1\\1108-c.gnt\n",
      "Loading file: HWDB1.1trn_gnt_P1\\1109-c.gnt\n",
      "Loading file: HWDB1.1trn_gnt_P1\\1110-c.gnt\n",
      "Loading file: HWDB1.1trn_gnt_P1\\1111-c.gnt\n",
      "Loading file: HWDB1.1trn_gnt_P1\\1112-c.gnt\n",
      "Loading file: HWDB1.1trn_gnt_P1\\1113-c.gnt\n",
      "Loading file: HWDB1.1trn_gnt_P1\\1114-c.gnt\n",
      "Loading file: HWDB1.1trn_gnt_P1\\1115-c.gnt\n",
      "Loading file: HWDB1.1trn_gnt_P1\\1116-c.gnt\n",
      "Loading file: HWDB1.1trn_gnt_P1\\1117-c.gnt\n",
      "Loading file: HWDB1.1trn_gnt_P1\\1118-c.gnt\n",
      "Loading file: HWDB1.1trn_gnt_P1\\1119-c.gnt\n",
      "Loading file: HWDB1.1trn_gnt_P1\\1120-c.gnt\n"
     ]
    }
   ],
   "source": [
    "import dataset\n",
    "from pandas import DataFrame\n",
    "\n",
    "samples = []\n",
    "for label, image in dataset.load_datasets(purpose=\"train\"):\n",
    "    samples.append([label, image.height, image.width])\n",
    "\n",
    "data = DataFrame(samples, columns=[\"Label\", \"Height\", \"Width\"])"
   ]
  },
  {
   "cell_type": "code",
   "execution_count": 2,
   "metadata": {},
   "outputs": [
    {
     "name": "stdout",
     "output_type": "stream",
     "text": [
      "Average dimensions: 82.9207059136 x 71.4143704603\n"
     ]
    }
   ],
   "source": [
    "print(\"Average dimensions: %s x %s\" % (data[\"Height\"].mean(), data[\"Width\"].mean()))"
   ]
  },
  {
   "cell_type": "code",
   "execution_count": 3,
   "metadata": {},
   "outputs": [
    {
     "data": {
      "text/plain": [
       "<matplotlib.axes._subplots.AxesSubplot at 0x18bde2a5e80>"
      ]
     },
     "execution_count": 3,
     "metadata": {},
     "output_type": "execute_result"
    },
    {
     "data": {
      "image/png": "[encoded data removed]",
      "text/plain": [
       "<matplotlib.figure.Figure at 0x18bceae89e8>"
      ]
     },
     "metadata": {},
     "output_type": "display_data"
    }
   ],
   "source": [
    "%matplotlib inline\n",
    "data[\"Height\"].hist(bins=50)"
   ]
  },
  {
   "cell_type": "code",
   "execution_count": 4,
   "metadata": {},
   "outputs": [
    {
     "data": {
      "text/plain": [
       "<matplotlib.axes._subplots.AxesSubplot at 0x18bde3cfa58>"
      ]
     },
     "execution_count": 4,
     "metadata": {},
     "output_type": "execute_result"
    },
    {
     "data": {
      "image/png": "[encoded data removed]",
      "text/plain": [
       "<matplotlib.figure.Figure at 0x18bceae8898>"
      ]
     },
     "metadata": {},
     "output_type": "display_data"
    }
   ],
   "source": [
    "data[\"Width\"].hist(bins=50)"
   ]
  },
  {
   "cell_type": "code",
   "execution_count": 8,
   "metadata": {},
   "outputs": [
    {
     "data": {
      "text/html": [
       "<div>\n",
       "<style>\n",
       "    .dataframe thead tr:only-child th {\n",
       "        text-align: right;\n",
       "    }\n",
       "\n",
       "    .dataframe thead th {\n",
       "        text-align: left;\n",
       "    }\n",
       "\n",
       "    .dataframe tbody tr th {\n",
       "        vertical-align: top;\n",
       "    }\n",
       "</style>\n",
       "<table border=\"1\" class=\"dataframe\">\n",
       "  <thead>\n",
       "    <tr>\n",
       "      <th></th>\n",
       "      <th colspan=\"3\" halign=\"left\">Height</th>\n",
       "      <th colspan=\"3\" halign=\"left\">Width</th>\n",
       "    </tr>\n",
       "    <tr>\n",
       "      <th></th>\n",
       "      <th>count</th>\n",
       "      <th>mean</th>\n",
       "      <th>std</th>\n",
       "      <th>count</th>\n",
       "      <th>mean</th>\n",
       "      <th>std</th>\n",
       "    </tr>\n",
       "    <tr>\n",
       "      <th>Label</th>\n",
       "      <th></th>\n",
       "      <th></th>\n",
       "      <th></th>\n",
       "      <th></th>\n",
       "      <th></th>\n",
       "      <th></th>\n",
       "    </tr>\n",
       "  </thead>\n",
       "  <tbody>\n",
       "    <tr>\n",
       "      <th>一</th>\n",
       "      <td>299</td>\n",
       "      <td>12.287625</td>\n",
       "      <td>4.807455</td>\n",
       "      <td>299</td>\n",
       "      <td>44.919732</td>\n",
       "      <td>10.134014</td>\n",
       "    </tr>\n",
       "    <tr>\n",
       "      <th>丁</th>\n",
       "      <td>296</td>\n",
       "      <td>72.216216</td>\n",
       "      <td>14.369478</td>\n",
       "      <td>296</td>\n",
       "      <td>45.064189</td>\n",
       "      <td>11.346287</td>\n",
       "    </tr>\n",
       "    <tr>\n",
       "      <th>七</th>\n",
       "      <td>299</td>\n",
       "      <td>60.484950</td>\n",
       "      <td>11.246578</td>\n",
       "      <td>299</td>\n",
       "      <td>61.033445</td>\n",
       "      <td>13.044794</td>\n",
       "    </tr>\n",
       "    <tr>\n",
       "      <th>万</th>\n",
       "      <td>297</td>\n",
       "      <td>67.545455</td>\n",
       "      <td>11.571989</td>\n",
       "      <td>297</td>\n",
       "      <td>46.744108</td>\n",
       "      <td>8.734552</td>\n",
       "    </tr>\n",
       "    <tr>\n",
       "      <th>丈</th>\n",
       "      <td>299</td>\n",
       "      <td>70.575251</td>\n",
       "      <td>12.012446</td>\n",
       "      <td>299</td>\n",
       "      <td>56.444816</td>\n",
       "      <td>11.970018</td>\n",
       "    </tr>\n",
       "    <tr>\n",
       "      <th>三</th>\n",
       "      <td>299</td>\n",
       "      <td>47.829431</td>\n",
       "      <td>8.805181</td>\n",
       "      <td>299</td>\n",
       "      <td>52.177258</td>\n",
       "      <td>14.894439</td>\n",
       "    </tr>\n",
       "    <tr>\n",
       "      <th>上</th>\n",
       "      <td>299</td>\n",
       "      <td>57.602007</td>\n",
       "      <td>10.580094</td>\n",
       "      <td>299</td>\n",
       "      <td>53.311037</td>\n",
       "      <td>12.893221</td>\n",
       "    </tr>\n",
       "    <tr>\n",
       "      <th>下</th>\n",
       "      <td>300</td>\n",
       "      <td>67.750000</td>\n",
       "      <td>13.443583</td>\n",
       "      <td>300</td>\n",
       "      <td>45.693333</td>\n",
       "      <td>9.143923</td>\n",
       "    </tr>\n",
       "    <tr>\n",
       "      <th>不</th>\n",
       "      <td>299</td>\n",
       "      <td>64.839465</td>\n",
       "      <td>10.435531</td>\n",
       "      <td>299</td>\n",
       "      <td>53.772575</td>\n",
       "      <td>10.586894</td>\n",
       "    </tr>\n",
       "    <tr>\n",
       "      <th>与</th>\n",
       "      <td>299</td>\n",
       "      <td>68.946488</td>\n",
       "      <td>11.957860</td>\n",
       "      <td>299</td>\n",
       "      <td>49.956522</td>\n",
       "      <td>10.403670</td>\n",
       "    </tr>\n",
       "    <tr>\n",
       "      <th>丑</th>\n",
       "      <td>300</td>\n",
       "      <td>61.066667</td>\n",
       "      <td>9.553697</td>\n",
       "      <td>300</td>\n",
       "      <td>59.350000</td>\n",
       "      <td>14.444479</td>\n",
       "    </tr>\n",
       "    <tr>\n",
       "      <th>专</th>\n",
       "      <td>300</td>\n",
       "      <td>76.823333</td>\n",
       "      <td>12.687080</td>\n",
       "      <td>300</td>\n",
       "      <td>48.206667</td>\n",
       "      <td>10.517892</td>\n",
       "    </tr>\n",
       "    <tr>\n",
       "      <th>且</th>\n",
       "      <td>300</td>\n",
       "      <td>68.406667</td>\n",
       "      <td>11.617710</td>\n",
       "      <td>300</td>\n",
       "      <td>63.376667</td>\n",
       "      <td>15.515494</td>\n",
       "    </tr>\n",
       "    <tr>\n",
       "      <th>世</th>\n",
       "      <td>298</td>\n",
       "      <td>65.104027</td>\n",
       "      <td>11.616164</td>\n",
       "      <td>298</td>\n",
       "      <td>61.483221</td>\n",
       "      <td>11.486255</td>\n",
       "    </tr>\n",
       "    <tr>\n",
       "      <th>丘</th>\n",
       "      <td>296</td>\n",
       "      <td>66.567568</td>\n",
       "      <td>10.991005</td>\n",
       "      <td>296</td>\n",
       "      <td>64.743243</td>\n",
       "      <td>14.642923</td>\n",
       "    </tr>\n",
       "    <tr>\n",
       "      <th>丙</th>\n",
       "      <td>300</td>\n",
       "      <td>65.810000</td>\n",
       "      <td>10.359777</td>\n",
       "      <td>300</td>\n",
       "      <td>56.920000</td>\n",
       "      <td>9.386905</td>\n",
       "    </tr>\n",
       "    <tr>\n",
       "      <th>业</th>\n",
       "      <td>299</td>\n",
       "      <td>58.030100</td>\n",
       "      <td>10.853313</td>\n",
       "      <td>299</td>\n",
       "      <td>63.919732</td>\n",
       "      <td>14.023240</td>\n",
       "    </tr>\n",
       "    <tr>\n",
       "      <th>丛</th>\n",
       "      <td>300</td>\n",
       "      <td>62.486667</td>\n",
       "      <td>10.250532</td>\n",
       "      <td>300</td>\n",
       "      <td>62.220000</td>\n",
       "      <td>11.088196</td>\n",
       "    </tr>\n",
       "    <tr>\n",
       "      <th>东</th>\n",
       "      <td>300</td>\n",
       "      <td>78.283333</td>\n",
       "      <td>11.543276</td>\n",
       "      <td>300</td>\n",
       "      <td>59.446667</td>\n",
       "      <td>11.653031</td>\n",
       "    </tr>\n",
       "    <tr>\n",
       "      <th>丝</th>\n",
       "      <td>300</td>\n",
       "      <td>67.570000</td>\n",
       "      <td>11.270990</td>\n",
       "      <td>300</td>\n",
       "      <td>63.360000</td>\n",
       "      <td>12.949751</td>\n",
       "    </tr>\n",
       "    <tr>\n",
       "      <th>丢</th>\n",
       "      <td>300</td>\n",
       "      <td>75.680000</td>\n",
       "      <td>11.528252</td>\n",
       "      <td>300</td>\n",
       "      <td>52.866667</td>\n",
       "      <td>10.105243</td>\n",
       "    </tr>\n",
       "    <tr>\n",
       "      <th>两</th>\n",
       "      <td>299</td>\n",
       "      <td>68.287625</td>\n",
       "      <td>11.979746</td>\n",
       "      <td>299</td>\n",
       "      <td>62.541806</td>\n",
       "      <td>10.322034</td>\n",
       "    </tr>\n",
       "    <tr>\n",
       "      <th>严</th>\n",
       "      <td>299</td>\n",
       "      <td>91.010033</td>\n",
       "      <td>18.044220</td>\n",
       "      <td>299</td>\n",
       "      <td>54.916388</td>\n",
       "      <td>10.894077</td>\n",
       "    </tr>\n",
       "    <tr>\n",
       "      <th>丧</th>\n",
       "      <td>298</td>\n",
       "      <td>84.305369</td>\n",
       "      <td>13.401996</td>\n",
       "      <td>298</td>\n",
       "      <td>69.090604</td>\n",
       "      <td>15.258993</td>\n",
       "    </tr>\n",
       "    <tr>\n",
       "      <th>个</th>\n",
       "      <td>299</td>\n",
       "      <td>77.555184</td>\n",
       "      <td>14.015073</td>\n",
       "      <td>299</td>\n",
       "      <td>48.280936</td>\n",
       "      <td>10.933355</td>\n",
       "    </tr>\n",
       "    <tr>\n",
       "      <th>丫</th>\n",
       "      <td>297</td>\n",
       "      <td>79.232323</td>\n",
       "      <td>16.508696</td>\n",
       "      <td>297</td>\n",
       "      <td>37.090909</td>\n",
       "      <td>7.783069</td>\n",
       "    </tr>\n",
       "    <tr>\n",
       "      <th>中</th>\n",
       "      <td>299</td>\n",
       "      <td>80.491639</td>\n",
       "      <td>16.635122</td>\n",
       "      <td>299</td>\n",
       "      <td>44.749164</td>\n",
       "      <td>8.128207</td>\n",
       "    </tr>\n",
       "    <tr>\n",
       "      <th>丰</th>\n",
       "      <td>299</td>\n",
       "      <td>86.244147</td>\n",
       "      <td>17.249762</td>\n",
       "      <td>299</td>\n",
       "      <td>54.792642</td>\n",
       "      <td>13.321923</td>\n",
       "    </tr>\n",
       "    <tr>\n",
       "      <th>串</th>\n",
       "      <td>298</td>\n",
       "      <td>94.442953</td>\n",
       "      <td>16.041983</td>\n",
       "      <td>298</td>\n",
       "      <td>48.315436</td>\n",
       "      <td>9.098479</td>\n",
       "    </tr>\n",
       "    <tr>\n",
       "      <th>临</th>\n",
       "      <td>300</td>\n",
       "      <td>78.530000</td>\n",
       "      <td>13.538343</td>\n",
       "      <td>300</td>\n",
       "      <td>65.500000</td>\n",
       "      <td>9.886141</td>\n",
       "    </tr>\n",
       "    <tr>\n",
       "      <th>...</th>\n",
       "      <td>...</td>\n",
       "      <td>...</td>\n",
       "      <td>...</td>\n",
       "      <td>...</td>\n",
       "      <td>...</td>\n",
       "      <td>...</td>\n",
       "    </tr>\n",
       "    <tr>\n",
       "      <th>鸵</th>\n",
       "      <td>296</td>\n",
       "      <td>83.138514</td>\n",
       "      <td>12.543257</td>\n",
       "      <td>296</td>\n",
       "      <td>83.952703</td>\n",
       "      <td>12.019946</td>\n",
       "    </tr>\n",
       "    <tr>\n",
       "      <th>鸽</th>\n",
       "      <td>299</td>\n",
       "      <td>84.933110</td>\n",
       "      <td>13.425992</td>\n",
       "      <td>299</td>\n",
       "      <td>80.217391</td>\n",
       "      <td>12.018284</td>\n",
       "    </tr>\n",
       "    <tr>\n",
       "      <th>鸿</th>\n",
       "      <td>300</td>\n",
       "      <td>81.606667</td>\n",
       "      <td>12.479225</td>\n",
       "      <td>300</td>\n",
       "      <td>77.923333</td>\n",
       "      <td>10.859584</td>\n",
       "    </tr>\n",
       "    <tr>\n",
       "      <th>鹃</th>\n",
       "      <td>299</td>\n",
       "      <td>84.989967</td>\n",
       "      <td>12.681299</td>\n",
       "      <td>299</td>\n",
       "      <td>70.648829</td>\n",
       "      <td>9.931667</td>\n",
       "    </tr>\n",
       "    <tr>\n",
       "      <th>鹅</th>\n",
       "      <td>300</td>\n",
       "      <td>87.693333</td>\n",
       "      <td>14.368977</td>\n",
       "      <td>300</td>\n",
       "      <td>83.916667</td>\n",
       "      <td>11.477900</td>\n",
       "    </tr>\n",
       "    <tr>\n",
       "      <th>鹊</th>\n",
       "      <td>299</td>\n",
       "      <td>87.103679</td>\n",
       "      <td>13.212993</td>\n",
       "      <td>299</td>\n",
       "      <td>78.254181</td>\n",
       "      <td>12.764869</td>\n",
       "    </tr>\n",
       "    <tr>\n",
       "      <th>鹏</th>\n",
       "      <td>300</td>\n",
       "      <td>85.370000</td>\n",
       "      <td>13.793742</td>\n",
       "      <td>300</td>\n",
       "      <td>86.533333</td>\n",
       "      <td>12.064025</td>\n",
       "    </tr>\n",
       "    <tr>\n",
       "      <th>鹤</th>\n",
       "      <td>299</td>\n",
       "      <td>87.157191</td>\n",
       "      <td>13.889498</td>\n",
       "      <td>299</td>\n",
       "      <td>84.137124</td>\n",
       "      <td>11.965467</td>\n",
       "    </tr>\n",
       "    <tr>\n",
       "      <th>鹰</th>\n",
       "      <td>298</td>\n",
       "      <td>106.929530</td>\n",
       "      <td>15.072163</td>\n",
       "      <td>298</td>\n",
       "      <td>69.000000</td>\n",
       "      <td>12.105874</td>\n",
       "    </tr>\n",
       "    <tr>\n",
       "      <th>鹿</th>\n",
       "      <td>299</td>\n",
       "      <td>89.899666</td>\n",
       "      <td>13.807520</td>\n",
       "      <td>299</td>\n",
       "      <td>74.615385</td>\n",
       "      <td>13.871990</td>\n",
       "    </tr>\n",
       "    <tr>\n",
       "      <th>麓</th>\n",
       "      <td>297</td>\n",
       "      <td>106.969697</td>\n",
       "      <td>15.197431</td>\n",
       "      <td>297</td>\n",
       "      <td>76.555556</td>\n",
       "      <td>13.873869</td>\n",
       "    </tr>\n",
       "    <tr>\n",
       "      <th>麦</th>\n",
       "      <td>298</td>\n",
       "      <td>85.093960</td>\n",
       "      <td>13.151714</td>\n",
       "      <td>298</td>\n",
       "      <td>61.302013</td>\n",
       "      <td>13.993363</td>\n",
       "    </tr>\n",
       "    <tr>\n",
       "      <th>麻</th>\n",
       "      <td>299</td>\n",
       "      <td>88.056856</td>\n",
       "      <td>14.295542</td>\n",
       "      <td>299</td>\n",
       "      <td>78.561873</td>\n",
       "      <td>13.243918</td>\n",
       "    </tr>\n",
       "    <tr>\n",
       "      <th>黄</th>\n",
       "      <td>298</td>\n",
       "      <td>89.305369</td>\n",
       "      <td>12.179523</td>\n",
       "      <td>298</td>\n",
       "      <td>64.234899</td>\n",
       "      <td>11.553937</td>\n",
       "    </tr>\n",
       "    <tr>\n",
       "      <th>黍</th>\n",
       "      <td>298</td>\n",
       "      <td>91.711409</td>\n",
       "      <td>12.003532</td>\n",
       "      <td>298</td>\n",
       "      <td>68.406040</td>\n",
       "      <td>13.824765</td>\n",
       "    </tr>\n",
       "    <tr>\n",
       "      <th>黎</th>\n",
       "      <td>299</td>\n",
       "      <td>98.086957</td>\n",
       "      <td>13.406867</td>\n",
       "      <td>299</td>\n",
       "      <td>74.535117</td>\n",
       "      <td>11.989142</td>\n",
       "    </tr>\n",
       "    <tr>\n",
       "      <th>黑</th>\n",
       "      <td>300</td>\n",
       "      <td>83.866667</td>\n",
       "      <td>12.632530</td>\n",
       "      <td>300</td>\n",
       "      <td>68.073333</td>\n",
       "      <td>12.683751</td>\n",
       "    </tr>\n",
       "    <tr>\n",
       "      <th>黔</th>\n",
       "      <td>294</td>\n",
       "      <td>84.544218</td>\n",
       "      <td>13.520926</td>\n",
       "      <td>294</td>\n",
       "      <td>81.836735</td>\n",
       "      <td>12.914019</td>\n",
       "    </tr>\n",
       "    <tr>\n",
       "      <th>默</th>\n",
       "      <td>298</td>\n",
       "      <td>79.238255</td>\n",
       "      <td>12.523390</td>\n",
       "      <td>298</td>\n",
       "      <td>82.369128</td>\n",
       "      <td>12.636780</td>\n",
       "    </tr>\n",
       "    <tr>\n",
       "      <th>鼎</th>\n",
       "      <td>300</td>\n",
       "      <td>100.276667</td>\n",
       "      <td>14.995433</td>\n",
       "      <td>300</td>\n",
       "      <td>68.480000</td>\n",
       "      <td>10.294799</td>\n",
       "    </tr>\n",
       "    <tr>\n",
       "      <th>鼓</th>\n",
       "      <td>297</td>\n",
       "      <td>82.491582</td>\n",
       "      <td>13.168891</td>\n",
       "      <td>297</td>\n",
       "      <td>82.111111</td>\n",
       "      <td>15.792931</td>\n",
       "    </tr>\n",
       "    <tr>\n",
       "      <th>鼠</th>\n",
       "      <td>300</td>\n",
       "      <td>88.860000</td>\n",
       "      <td>13.547898</td>\n",
       "      <td>300</td>\n",
       "      <td>76.433333</td>\n",
       "      <td>13.588022</td>\n",
       "    </tr>\n",
       "    <tr>\n",
       "      <th>鼻</th>\n",
       "      <td>295</td>\n",
       "      <td>114.186441</td>\n",
       "      <td>17.977002</td>\n",
       "      <td>295</td>\n",
       "      <td>59.986441</td>\n",
       "      <td>12.608704</td>\n",
       "    </tr>\n",
       "    <tr>\n",
       "      <th>齐</th>\n",
       "      <td>300</td>\n",
       "      <td>95.160000</td>\n",
       "      <td>18.391535</td>\n",
       "      <td>300</td>\n",
       "      <td>55.396667</td>\n",
       "      <td>11.974303</td>\n",
       "    </tr>\n",
       "    <tr>\n",
       "      <th>齿</th>\n",
       "      <td>299</td>\n",
       "      <td>79.906355</td>\n",
       "      <td>12.580396</td>\n",
       "      <td>299</td>\n",
       "      <td>57.886288</td>\n",
       "      <td>11.134343</td>\n",
       "    </tr>\n",
       "    <tr>\n",
       "      <th>龄</th>\n",
       "      <td>297</td>\n",
       "      <td>80.148148</td>\n",
       "      <td>12.637284</td>\n",
       "      <td>297</td>\n",
       "      <td>79.141414</td>\n",
       "      <td>12.511624</td>\n",
       "    </tr>\n",
       "    <tr>\n",
       "      <th>龋</th>\n",
       "      <td>297</td>\n",
       "      <td>83.868687</td>\n",
       "      <td>13.443309</td>\n",
       "      <td>297</td>\n",
       "      <td>87.138047</td>\n",
       "      <td>13.494411</td>\n",
       "    </tr>\n",
       "    <tr>\n",
       "      <th>龙</th>\n",
       "      <td>300</td>\n",
       "      <td>74.590000</td>\n",
       "      <td>12.582912</td>\n",
       "      <td>300</td>\n",
       "      <td>63.290000</td>\n",
       "      <td>11.183745</td>\n",
       "    </tr>\n",
       "    <tr>\n",
       "      <th>龚</th>\n",
       "      <td>299</td>\n",
       "      <td>99.752508</td>\n",
       "      <td>13.374282</td>\n",
       "      <td>299</td>\n",
       "      <td>62.167224</td>\n",
       "      <td>10.818459</td>\n",
       "    </tr>\n",
       "    <tr>\n",
       "      <th>龟</th>\n",
       "      <td>289</td>\n",
       "      <td>83.761246</td>\n",
       "      <td>12.407788</td>\n",
       "      <td>289</td>\n",
       "      <td>66.131488</td>\n",
       "      <td>13.089304</td>\n",
       "    </tr>\n",
       "  </tbody>\n",
       "</table>\n",
       "<p>3755 rows × 6 columns</p>\n",
       "</div>"
      ],
      "text/plain": [
       "      Height                        Width                      \n",
       "       count        mean        std count       mean        std\n",
       "Label                                                          \n",
       "一        299   12.287625   4.807455   299  44.919732  10.134014\n",
       "丁        296   72.216216  14.369478   296  45.064189  11.346287\n",
       "七        299   60.484950  11.246578   299  61.033445  13.044794\n",
       "万        297   67.545455  11.571989   297  46.744108   8.734552\n",
       "丈        299   70.575251  12.012446   299  56.444816  11.970018\n",
       "三        299   47.829431   8.805181   299  52.177258  14.894439\n",
       "上        299   57.602007  10.580094   299  53.311037  12.893221\n",
       "下        300   67.750000  13.443583   300  45.693333   9.143923\n",
       "不        299   64.839465  10.435531   299  53.772575  10.586894\n",
       "与        299   68.946488  11.957860   299  49.956522  10.403670\n",
       "丑        300   61.066667   9.553697   300  59.350000  14.444479\n",
       "专        300   76.823333  12.687080   300  48.206667  10.517892\n",
       "且        300   68.406667  11.617710   300  63.376667  15.515494\n",
       "世        298   65.104027  11.616164   298  61.483221  11.486255\n",
       "丘        296   66.567568  10.991005   296  64.743243  14.642923\n",
       "丙        300   65.810000  10.359777   300  56.920000   9.386905\n",
       "业        299   58.030100  10.853313   299  63.919732  14.023240\n",
       "丛        300   62.486667  10.250532   300  62.220000  11.088196\n",
       "东        300   78.283333  11.543276   300  59.446667  11.653031\n",
       "丝        300   67.570000  11.270990   300  63.360000  12.949751\n",
       "丢        300   75.680000  11.528252   300  52.866667  10.105243\n",
       "两        299   68.287625  11.979746   299  62.541806  10.322034\n",
       "严        299   91.010033  18.044220   299  54.916388  10.894077\n",
       "丧        298   84.305369  13.401996   298  69.090604  15.258993\n",
       "个        299   77.555184  14.015073   299  48.280936  10.933355\n",
       "丫        297   79.232323  16.508696   297  37.090909   7.783069\n",
       "中        299   80.491639  16.635122   299  44.749164   8.128207\n",
       "丰        299   86.244147  17.249762   299  54.792642  13.321923\n",
       "串        298   94.442953  16.041983   298  48.315436   9.098479\n",
       "临        300   78.530000  13.538343   300  65.500000   9.886141\n",
       "...      ...         ...        ...   ...        ...        ...\n",
       "鸵        296   83.138514  12.543257   296  83.952703  12.019946\n",
       "鸽        299   84.933110  13.425992   299  80.217391  12.018284\n",
       "鸿        300   81.606667  12.479225   300  77.923333  10.859584\n",
       "鹃        299   84.989967  12.681299   299  70.648829   9.931667\n",
       "鹅        300   87.693333  14.368977   300  83.916667  11.477900\n",
       "鹊        299   87.103679  13.212993   299  78.254181  12.764869\n",
       "鹏        300   85.370000  13.793742   300  86.533333  12.064025\n",
       "鹤        299   87.157191  13.889498   299  84.137124  11.965467\n",
       "鹰        298  106.929530  15.072163   298  69.000000  12.105874\n",
       "鹿        299   89.899666  13.807520   299  74.615385  13.871990\n",
       "麓        297  106.969697  15.197431   297  76.555556  13.873869\n",
       "麦        298   85.093960  13.151714   298  61.302013  13.993363\n",
       "麻        299   88.056856  14.295542   299  78.561873  13.243918\n",
       "黄        298   89.305369  12.179523   298  64.234899  11.553937\n",
       "黍        298   91.711409  12.003532   298  68.406040  13.824765\n",
       "黎        299   98.086957  13.406867   299  74.535117  11.989142\n",
       "黑        300   83.866667  12.632530   300  68.073333  12.683751\n",
       "黔        294   84.544218  13.520926   294  81.836735  12.914019\n",
       "默        298   79.238255  12.523390   298  82.369128  12.636780\n",
       "鼎        300  100.276667  14.995433   300  68.480000  10.294799\n",
       "鼓        297   82.491582  13.168891   297  82.111111  15.792931\n",
       "鼠        300   88.860000  13.547898   300  76.433333  13.588022\n",
       "鼻        295  114.186441  17.977002   295  59.986441  12.608704\n",
       "齐        300   95.160000  18.391535   300  55.396667  11.974303\n",
       "齿        299   79.906355  12.580396   299  57.886288  11.134343\n",
       "龄        297   80.148148  12.637284   297  79.141414  12.511624\n",
       "龋        297   83.868687  13.443309   297  87.138047  13.494411\n",
       "龙        300   74.590000  12.582912   300  63.290000  11.183745\n",
       "龚        299   99.752508  13.374282   299  62.167224  10.818459\n",
       "龟        289   83.761246  12.407788   289  66.131488  13.089304\n",
       "\n",
       "[3755 rows x 6 columns]"
      ]
     },
     "execution_count": 8,
     "metadata": {},
     "output_type": "execute_result"
    }
   ],
   "source": [
    "grouped = data.groupby([\"Label\"])\n",
    "grouped.agg([\"count\", \"mean\", \"std\"])"
   ]
  },
  {
   "cell_type": "code",
   "execution_count": 14,
   "metadata": {},
   "outputs": [
    {
     "data": {
      "image/jpeg": "[encoded data removed]",
      "text/plain": [
       "<IPython.core.display.Image object>"
      ]
     },
     "metadata": {},
     "output_type": "display_data"
    },
    {
     "data": {
      "image/jpeg": "[encoded data removed]",
      "text/plain": [
       "<IPython.core.display.Image object>"
      ]
     },
     "metadata": {},
     "output_type": "display_data"
    },
    {
     "data": {
      "image/jpeg": "[encoded data removed]",
      "text/plain": [
       "<IPython.core.display.Image object>"
      ]
     },
     "metadata": {},
     "output_type": "display_data"
    },
    {
     "data": {
      "image/jpeg": "[encoded data removed]",
      "text/plain": [
       "<IPython.core.display.Image object>"
      ]
     },
     "metadata": {},
     "output_type": "display_data"
    },
    {
     "data": {
      "image/jpeg": "[encoded data removed]",
      "text/plain": [
       "<IPython.core.display.Image object>"
      ]
     },
     "metadata": {},
     "output_type": "display_data"
    },
    {
     "data": {
      "image/jpeg": "[encoded data removed]",
      "text/plain": [
       "<IPython.core.display.Image object>"
      ]
     },
     "metadata": {},
     "output_type": "display_data"
    },
    {
     "data": {
      "image/jpeg": "[encoded data removed]",
      "text/plain": [
       "<IPython.core.display.Image object>"
      ]
     },
     "metadata": {},
     "output_type": "display_data"
    },
    {
     "data": {
      "image/jpeg": "[encoded data removed]",
      "text/plain": [
       "<IPython.core.display.Image object>"
      ]
     },
     "metadata": {},
     "output_type": "display_data"
    },
    {
     "data": {
      "image/jpeg": "[encoded data removed]",
      "text/plain": [
       "<IPython.core.display.Image object>"
      ]
     },
     "metadata": {},
     "output_type": "display_data"
    },
    {
     "data": {
      "image/jpeg": "[encoded data removed]",
      "text/plain": [
       "<IPython.core.display.Image object>"
      ]
     },
     "metadata": {},
     "output_type": "display_data"
    },
    {
     "data": {
      "image/jpeg": "[encoded data removed]",
      "text/plain": [
       "<IPython.core.display.Image object>"
      ]
     },
     "metadata": {},
     "output_type": "display_data"
    },
    {
     "data": {
      "image/jpeg": "[encoded data removed]",
      "text/plain": [
       "<IPython.core.display.Image object>"
      ]
     },
     "metadata": {},
     "output_type": "display_data"
    },
    {
     "data": {
      "image/jpeg": "[encoded data removed]",
      "text/plain": [
       "<IPython.core.display.Image object>"
      ]
     },
     "metadata": {},
     "output_type": "display_data"
    },
    {
     "data": {
      "image/jpeg": "[encoded data removed]",
      "text/plain": [
       "<IPython.core.display.Image object>"
      ]
     },
     "metadata": {},
     "output_type": "display_data"
    },
    {
     "data": {
      "image/jpeg": "[encoded data removed]",
      "text/plain": [
       "<IPython.core.display.Image object>"
      ]
     },
     "metadata": {},
     "output_type": "display_data"
    },
    {
     "data": {
      "image/jpeg": "[encoded data removed]",
      "text/plain": [
       "<IPython.core.display.Image object>"
      ]
     },
     "metadata": {},
     "output_type": "display_data"
    },
    {
     "data": {
      "image/jpeg": "[encoded data removed]",
      "text/plain": [
       "<IPython.core.display.Image object>"
      ]
     },
     "metadata": {},
     "output_type": "display_data"
    },
    {
     "data": {
      "image/jpeg": "[encoded data removed]",
      "text/plain": [
       "<IPython.core.display.Image object>"
      ]
     },
     "metadata": {},
     "output_type": "display_data"
    },
    {
     "data": {
      "image/jpeg": "[encoded data removed]",
      "text/plain": [
       "<IPython.core.display.Image object>"
      ]
     },
     "metadata": {},
     "output_type": "display_data"
    },
    {
     "data": {
      "image/jpeg": "[encoded data removed]",
      "text/plain": [
       "<IPython.core.display.Image object>"
      ]
     },
     "metadata": {},
     "output_type": "display_data"
    },
    {
     "data": {
      "image/jpeg": "[encoded data removed]",
      "text/plain": [
       "<IPython.core.display.Image object>"
      ]
     },
     "metadata": {},
     "output_type": "display_data"
    },
    {
     "data": {
      "image/jpeg": "[encoded data removed]",
      "text/plain": [
       "<IPython.core.display.Image object>"
      ]
     },
     "metadata": {},
     "output_type": "display_data"
    },
    {
     "data": {
      "image/jpeg": "[encoded data removed]",
      "text/plain": [
       "<IPython.core.display.Image object>"
      ]
     },
     "metadata": {},
     "output_type": "display_data"
    },
    {
     "data": {
      "image/jpeg": "[encoded data removed]",
      "text/plain": [
       "<IPython.core.display.Image object>"
      ]
     },
     "metadata": {},
     "output_type": "display_data"
    },
    {
     "data": {
      "image/jpeg": "[encoded data removed]",
      "text/plain": [
       "<IPython.core.display.Image object>"
      ]
     },
     "metadata": {},
     "output_type": "display_data"
    },
    {
     "data": {
      "image/jpeg": "[encoded data removed]",
      "text/plain": [
       "<IPython.core.display.Image object>"
      ]
     },
     "metadata": {},
     "output_type": "display_data"
    },
    {
     "data": {
      "image/jpeg": "[encoded data removed]",
      "text/plain": [
       "<IPython.core.display.Image object>"
      ]
     },
     "metadata": {},
     "output_type": "display_data"
    },
    {
     "data": {
      "image/jpeg": "[encoded data removed]",
      "text/plain": [
       "<IPython.core.display.Image object>"
      ]
     },
     "metadata": {},
     "output_type": "display_data"
    },
    {
     "data": {
      "image/jpeg": "[encoded data removed]",
      "text/plain": [
       "<IPython.core.display.Image object>"
      ]
     },
     "metadata": {},
     "output_type": "display_data"
    },
    {
     "data": {
      "image/jpeg": "[encoded data removed]",
      "text/plain": [
       "<IPython.core.display.Image object>"
      ]
     },
     "metadata": {},
     "output_type": "display_data"
    },
    {
     "data": {
      "image/jpeg": "[encoded data removed]",
      "text/plain": [
       "<IPython.core.display.Image object>"
      ]
     },
     "metadata": {},
     "output_type": "display_data"
    },
    {
     "data": {
      "image/jpeg": "[encoded data removed]",
      "text/plain": [
       "<IPython.core.display.Image object>"
      ]
     },
     "metadata": {},
     "output_type": "display_data"
    },
    {
     "data": {
      "image/jpeg": "[encoded data removed]",
      "text/plain": [
       "<IPython.core.display.Image object>"
      ]
     },
     "metadata": {},
     "output_type": "display_data"
    },
    {
     "data": {
      "image/jpeg": "[encoded data removed]",
      "text/plain": [
       "<IPython.core.display.Image object>"
      ]
     },
     "metadata": {},
     "output_type": "display_data"
    },
    {
     "data": {
      "image/jpeg": "[encoded data removed]",
      "text/plain": [
       "<IPython.core.display.Image object>"
      ]
     },
     "metadata": {},
     "output_type": "display_data"
    },
    {
     "data": {
      "image/jpeg": "[encoded data removed]",
      "text/plain": [
       "<IPython.core.display.Image object>"
      ]
     },
     "metadata": {},
     "output_type": "display_data"
    },
    {
     "data": {
      "image/jpeg": "[encoded data removed]",
      "text/plain": [
       "<IPython.core.display.Image object>"
      ]
     },
     "metadata": {},
     "output_type": "display_data"
    },
    {
     "data": {
      "image/jpeg": "[encoded data removed]",
      "text/plain": [
       "<IPython.core.display.Image object>"
      ]
     },
     "metadata": {},
     "output_type": "display_data"
    },
    {
     "data": {
      "image/jpeg": "[encoded data removed]",
      "text/plain": [
       "<IPython.core.display.Image object>"
      ]
     },
     "metadata": {},
     "output_type": "display_data"
    },
    {
     "data": {
      "image/jpeg": "[encoded data removed]",
      "text/plain": [
       "<IPython.core.display.Image object>"
      ]
     },
     "metadata": {},
     "output_type": "display_data"
    },
    {
     "data": {
      "image/jpeg": "[encoded data removed]",
      "text/plain": [
       "<IPython.core.display.Image object>"
      ]
     },
     "metadata": {},
     "output_type": "display_data"
    },
    {
     "data": {
      "image/jpeg": "[encoded data removed]",
      "text/plain": [
       "<IPython.core.display.Image object>"
      ]
     },
     "metadata": {},
     "output_type": "display_data"
    },
    {
     "data": {
      "image/jpeg": "[encoded data removed]",
      "text/plain": [
       "<IPython.core.display.Image object>"
      ]
     },
     "metadata": {},
     "output_type": "display_data"
    },
    {
     "data": {
      "image/jpeg": "[encoded data removed]",
      "text/plain": [
       "<IPython.core.display.Image object>"
      ]
     },
     "metadata": {},
     "output_type": "display_data"
    },
    {
     "data": {
      "image/jpeg": "[encoded data removed]",
      "text/plain": [
       "<IPython.core.display.Image object>"
      ]
     },
     "metadata": {},
     "output_type": "display_data"
    },
    {
     "data": {
      "image/jpeg": "[encoded data removed]",
      "text/plain": [
       "<IPython.core.display.Image object>"
      ]
     },
     "metadata": {},
     "output_type": "display_data"
    },
    {
     "data": {
      "image/jpeg": "[encoded data removed]",
      "text/plain": [
       "<IPython.core.display.Image object>"
      ]
     },
     "metadata": {},
     "output_type": "display_data"
    },
    {
     "data": {
      "image/jpeg": "[encoded data removed]",
      "text/plain": [
       "<IPython.core.display.Image object>"
      ]
     },
     "metadata": {},
     "output_type": "display_data"
    },
    {
     "data": {
      "image/jpeg": "[encoded data removed]",
      "text/plain": [
       "<IPython.core.display.Image object>"
      ]
     },
     "metadata": {},
     "output_type": "display_data"
    },
    {
     "data": {
      "image/jpeg": "[encoded data removed]",
      "text/plain": [
       "<IPython.core.display.Image object>"
      ]
     },
     "metadata": {},
     "output_type": "display_data"
    },
    {
     "data": {
      "image/jpeg": "[encoded data removed]",
      "text/plain": [
       "<IPython.core.display.Image object>"
      ]
     },
     "metadata": {},
     "output_type": "display_data"
    },
    {
     "data": {
      "image/jpeg": "[encoded data removed]",
      "text/plain": [
       "<IPython.core.display.Image object>"
      ]
     },
     "metadata": {},
     "output_type": "display_data"
    },
    {
     "data": {
      "image/jpeg": "[encoded data removed]",
      "text/plain": [
       "<IPython.core.display.Image object>"
      ]
     },
     "metadata": {},
     "output_type": "display_data"
    },
    {
     "data": {
      "image/jpeg": "[encoded data removed]",
      "text/plain": [
       "<IPython.core.display.Image object>"
      ]
     },
     "metadata": {},
     "output_type": "display_data"
    },
    {
     "data": {
      "image/jpeg": "[encoded data removed]",
      "text/plain": [
       "<IPython.core.display.Image object>"
      ]
     },
     "metadata": {},
     "output_type": "display_data"
    },
    {
     "data": {
      "image/jpeg": "[encoded data removed]",
      "text/plain": [
       "<IPython.core.display.Image object>"
      ]
     },
     "metadata": {},
     "output_type": "display_data"
    },
    {
     "data": {
      "image/jpeg": "[encoded data removed]",
      "text/plain": [
       "<IPython.core.display.Image object>"
      ]
     },
     "metadata": {},
     "output_type": "display_data"
    },
    {
     "data": {
      "image/jpeg": "[encoded data removed]",
      "text/plain": [
       "<IPython.core.display.Image object>"
      ]
     },
     "metadata": {},
     "output_type": "display_data"
    },
    {
     "data": {
      "image/jpeg": "[encoded data removed]",
      "text/plain": [
       "<IPython.core.display.Image object>"
      ]
     },
     "metadata": {},
     "output_type": "display_data"
    },
    {
     "data": {
      "image/jpeg": "[encoded data removed]",
      "text/plain": [
       "<IPython.core.display.Image object>"
      ]
     },
     "metadata": {},
     "output_type": "display_data"
    }
   ],
   "source": [
    "from data_exploration import display_label\n",
    "\n",
    "re_size = lambda x: x.resize((80, 70))\n",
    "\n",
    "display_label(\"默\", transform=re_size)"
   ]
  },
  {
   "cell_type": "code",
   "execution_count": 9,
   "metadata": {},
   "outputs": [
    {
     "data": {
      "text/plain": [
       "array([[<matplotlib.axes._subplots.AxesSubplot object at 0x0000018BDF945CC0>,\n",
       "        <matplotlib.axes._subplots.AxesSubplot object at 0x0000018BDF969E10>]], dtype=object)"
      ]
     },
     "execution_count": 9,
     "metadata": {},
     "output_type": "execute_result"
    },
    {
     "data": {
      "image/png": "[encoded data removed]",
      "text/plain": [
       "<matplotlib.figure.Figure at 0x18bdf91b630>"
      ]
     },
     "metadata": {},
     "output_type": "display_data"
    }
   ],
   "source": [
    "data.groupby([\"Label\"]).mean().hist(bins=50)"
   ]
  },
  {
   "cell_type": "code",
   "execution_count": 10,
   "metadata": {},
   "outputs": [
    {
     "data": {
      "text/plain": [
       "array([[<matplotlib.axes._subplots.AxesSubplot object at 0x0000018BDFA20F98>,\n",
       "        <matplotlib.axes._subplots.AxesSubplot object at 0x0000018BE470F1D0>]], dtype=object)"
      ]
     },
     "execution_count": 10,
     "metadata": {},
     "output_type": "execute_result"
    },
    {
     "data": {
      "image/png": "[encoded data removed]",
      "text/plain": [
       "<matplotlib.figure.Figure at 0x18bdf9e8898>"
      ]
     },
     "metadata": {},
     "output_type": "display_data"
    }
   ],
   "source": [
    "data.groupby([\"Label\"]).count().hist(bins=50)"
   ]
  },
  {
   "cell_type": "code",
   "execution_count": 11,
   "metadata": {},
   "outputs": [
    {
     "data": {
      "text/plain": [
       "array([[<matplotlib.axes._subplots.AxesSubplot object at 0x0000018BE58B7CC0>,\n",
       "        <matplotlib.axes._subplots.AxesSubplot object at 0x0000018BE592FC88>]], dtype=object)"
      ]
     },
     "execution_count": 11,
     "metadata": {},
     "output_type": "execute_result"
    },
    {
     "data": {
      "image/png": "[encoded data removed]",
      "text/plain": [
       "<matplotlib.figure.Figure at 0x18be590aac8>"
      ]
     },
     "metadata": {},
     "output_type": "display_data"
    }
   ],
   "source": [
    "data.groupby([\"Label\"]).std().hist(bins=50)"
   ]
  },
  {
   "cell_type": "code",
   "execution_count": null,
   "metadata": {
    "collapsed": true
   },
   "outputs": [],
   "source": []
  }
 ],
 "metadata": {
  "kernelspec": {
   "display_name": "Python 3",
   "language": "python",
   "name": "python3"
  },
  "language_info": {
   "codemirror_mode": {
    "name": "ipython",
    "version": 3
   },
   "file_extension": ".py",
   "mimetype": "text/x-python",
   "name": "python",
   "nbconvert_exporter": "python",
   "pygments_lexer": "ipython3",
   "version": "3.5.3"
  }
 },
 "nbformat": 4,
 "nbformat_minor": 2
}
