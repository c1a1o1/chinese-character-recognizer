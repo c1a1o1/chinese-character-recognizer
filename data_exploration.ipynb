{
 "cells": [
  {
   "cell_type": "code",
   "execution_count": 18,
   "metadata": {
    "collapsed": true
   },
   "outputs": [],
   "source": [
    "%matplotlib inline"
   ]
  },
  {
   "cell_type": "code",
   "execution_count": 8,
   "metadata": {},
   "outputs": [
    {
     "name": "stdout",
     "output_type": "stream",
     "text": [
      "Loading file: competition-gnt\\C001-f-f.gnt\n",
      "Loading file: competition-gnt\\C002-f-f.gnt\n",
      "Loading file: competition-gnt\\C003-f-f.gnt\n",
      "Loading file: competition-gnt\\C004-f-f.gnt\n",
      "Loading file: competition-gnt\\C005-f-f.gnt\n",
      "Loading file: competition-gnt\\C006-f-f.gnt\n",
      "Loading file: competition-gnt\\C007-f-f.gnt\n",
      "Loading file: competition-gnt\\C008-f-f.gnt\n",
      "Loading file: competition-gnt\\C009-f-f.gnt\n",
      "Loading file: competition-gnt\\C010-f-f.gnt\n",
      "Loading file: competition-gnt\\C011-f-f.gnt\n",
      "Loading file: competition-gnt\\C012-f-f.gnt\n",
      "Loading file: competition-gnt\\C013-f-f.gnt\n",
      "Loading file: competition-gnt\\C014-f-f.gnt\n",
      "Loading file: competition-gnt\\C015-f-f.gnt\n",
      "Loading file: competition-gnt\\C016-f-f.gnt\n",
      "Loading file: competition-gnt\\C017-f-f.gnt\n",
      "Loading file: competition-gnt\\C018-f-f.gnt\n",
      "Loading file: competition-gnt\\C019-f-f.gnt\n",
      "Loading file: competition-gnt\\C020-f-f.gnt\n",
      "Loading file: competition-gnt\\C021-f-f.gnt\n",
      "Loading file: competition-gnt\\C022-f-f.gnt\n",
      "Loading file: competition-gnt\\C023-f-f.gnt\n",
      "Loading file: competition-gnt\\C024-f-f.gnt\n",
      "Loading file: competition-gnt\\C025-f-f.gnt\n",
      "Loading file: competition-gnt\\C026-f-f.gnt\n",
      "Loading file: competition-gnt\\C027-f-f.gnt\n",
      "Loading file: competition-gnt\\C028-f-f.gnt\n",
      "Loading file: competition-gnt\\C029-f-f.gnt\n",
      "Loading file: competition-gnt\\C030-f-f.gnt\n",
      "Loading file: competition-gnt\\C031-f-f.gnt\n",
      "Loading file: competition-gnt\\C032-f-f.gnt\n",
      "Loading file: competition-gnt\\C033-f-f.gnt\n",
      "Loading file: competition-gnt\\C034-f-f.gnt\n",
      "Loading file: competition-gnt\\C035-f-f.gnt\n",
      "Loading file: competition-gnt\\C036-f-f.gnt\n",
      "Loading file: competition-gnt\\C037-f-f.gnt\n",
      "Loading file: competition-gnt\\C038-f-f.gnt\n",
      "Loading file: competition-gnt\\C039-f-f.gnt\n",
      "Loading file: competition-gnt\\C040-f-f.gnt\n",
      "Loading file: competition-gnt\\C041-f-f.gnt\n",
      "Loading file: competition-gnt\\C042-f-f.gnt\n",
      "Loading file: competition-gnt\\C043-f-f.gnt\n",
      "Loading file: competition-gnt\\C044-f-f.gnt\n",
      "Loading file: competition-gnt\\C045-f-f.gnt\n",
      "Loading file: competition-gnt\\C046-f-f.gnt\n",
      "Loading file: competition-gnt\\C047-f-f.gnt\n",
      "Loading file: competition-gnt\\C048-f-f.gnt\n",
      "Loading file: competition-gnt\\C049-f-f.gnt\n",
      "Loading file: competition-gnt\\C050-f-f.gnt\n",
      "Loading file: competition-gnt\\C051-f-f.gnt\n",
      "Loading file: competition-gnt\\C052-f-f.gnt\n",
      "Loading file: competition-gnt\\C053-f-f.gnt\n",
      "Loading file: competition-gnt\\C054-f-f.gnt\n",
      "Loading file: competition-gnt\\C055-f-f.gnt\n",
      "Loading file: competition-gnt\\C056-f-f.gnt\n",
      "Loading file: competition-gnt\\C057-f-f.gnt\n",
      "Loading file: competition-gnt\\C058-f-f.gnt\n",
      "Loading file: competition-gnt\\C059-f-f.gnt\n",
      "Loading file: competition-gnt\\C060-f-f.gnt\n"
     ]
    }
   ],
   "source": [
    "import dataset\n",
    "\n",
    "samples = []\n",
    "for label, image in dataset.load_gnt_dir(\"competition-gnt\"):\n",
    "    samples.append([label, image.height, image.width])\n",
    "    # Image is PIL.Image.Image\n",
    "    # output_image(\"HWDB1.1trn_gnt\", label, image)"
   ]
  },
  {
   "cell_type": "code",
   "execution_count": 9,
   "metadata": {},
   "outputs": [],
   "source": [
    "from pandas import DataFrame\n",
    "data = DataFrame(samples, columns=[\"Label\", \"Height\", \"Width\"])"
   ]
  },
  {
   "cell_type": "code",
   "execution_count": 13,
   "metadata": {},
   "outputs": [
    {
     "name": "stdout",
     "output_type": "stream",
     "text": [
      "Average dimensions: 84.7899553959 x 72.193330333\n"
     ]
    }
   ],
   "source": [
    "print(\"Average dimensions: %s x %s\" % (data[\"Height\"].mean(), data[\"Width\"].mean()))"
   ]
  },
  {
   "cell_type": "code",
   "execution_count": 16,
   "metadata": {},
   "outputs": [
    {
     "data": {
      "text/plain": [
       "<matplotlib.axes._subplots.AxesSubplot at 0x18628da06d8>"
      ]
     },
     "execution_count": 16,
     "metadata": {},
     "output_type": "execute_result"
    },
    {
     "data": {
      "image/png": "[encoded data removed]",
      "text/plain": [
       "<matplotlib.figure.Figure at 0x18628d5d9e8>"
      ]
     },
     "metadata": {},
     "output_type": "display_data"
    }
   ],
   "source": [
    "data[\"Height\"].hist(bins=50)"
   ]
  },
  {
   "cell_type": "code",
   "execution_count": 17,
   "metadata": {},
   "outputs": [
    {
     "data": {
      "text/plain": [
       "<matplotlib.axes._subplots.AxesSubplot at 0x1862a0fa160>"
      ]
     },
     "execution_count": 17,
     "metadata": {},
     "output_type": "execute_result"
    },
    {
     "data": {
      "image/png": "[encoded data removed]",
      "text/plain": [
       "<matplotlib.figure.Figure at 0x1862a17e7f0>"
      ]
     },
     "metadata": {},
     "output_type": "display_data"
    }
   ],
   "source": [
    "data[\"Width\"].hist(bins=50)"
   ]
  },
  {
   "cell_type": "code",
   "execution_count": null,
   "metadata": {
    "collapsed": true
   },
   "outputs": [],
   "source": []
  }
 ],
 "metadata": {
  "kernelspec": {
   "display_name": "Python 3",
   "language": "python",
   "name": "python3"
  },
  "language_info": {
   "codemirror_mode": {
    "name": "ipython",
    "version": 3
   },
   "file_extension": ".py",
   "mimetype": "text/x-python",
   "name": "python",
   "nbconvert_exporter": "python",
   "pygments_lexer": "ipython3",
   "version": "3.5.3"
  }
 },
 "nbformat": 4,
 "nbformat_minor": 2
}
