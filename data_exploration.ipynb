{
 "cells": [
  {
   "cell_type": "code",
   "execution_count": 3,
   "metadata": {
    "collapsed": true
   },
   "outputs": [],
   "source": [
    "%matplotlib inline"
   ]
  },
  {
   "cell_type": "code",
   "execution_count": 2,
   "metadata": {},
   "outputs": [
    {
     "name": "stdout",
     "output_type": "stream",
     "text": [
      "Loading file: competition-gnt\\C001-f-f.gnt\n",
      "Loading file: competition-gnt\\C002-f-f.gnt\n",
      "Loading file: competition-gnt\\C003-f-f.gnt\n",
      "Loading file: competition-gnt\\C004-f-f.gnt\n",
      "Loading file: competition-gnt\\C005-f-f.gnt\n",
      "Loading file: competition-gnt\\C006-f-f.gnt\n",
      "Loading file: competition-gnt\\C007-f-f.gnt\n",
      "Loading file: competition-gnt\\C008-f-f.gnt\n",
      "Loading file: competition-gnt\\C009-f-f.gnt\n",
      "Loading file: competition-gnt\\C010-f-f.gnt\n",
      "Loading file: competition-gnt\\C011-f-f.gnt\n",
      "Loading file: competition-gnt\\C012-f-f.gnt\n",
      "Loading file: competition-gnt\\C013-f-f.gnt\n",
      "Loading file: competition-gnt\\C014-f-f.gnt\n",
      "Loading file: competition-gnt\\C015-f-f.gnt\n",
      "Loading file: competition-gnt\\C016-f-f.gnt\n",
      "Loading file: competition-gnt\\C017-f-f.gnt\n",
      "Loading file: competition-gnt\\C018-f-f.gnt\n",
      "Loading file: competition-gnt\\C019-f-f.gnt\n",
      "Loading file: competition-gnt\\C020-f-f.gnt\n",
      "Loading file: competition-gnt\\C021-f-f.gnt\n",
      "Loading file: competition-gnt\\C022-f-f.gnt\n",
      "Loading file: competition-gnt\\C023-f-f.gnt\n",
      "Loading file: competition-gnt\\C024-f-f.gnt\n",
      "Loading file: competition-gnt\\C025-f-f.gnt\n",
      "Loading file: competition-gnt\\C026-f-f.gnt\n",
      "Loading file: competition-gnt\\C027-f-f.gnt\n",
      "Loading file: competition-gnt\\C028-f-f.gnt\n",
      "Loading file: competition-gnt\\C029-f-f.gnt\n",
      "Loading file: competition-gnt\\C030-f-f.gnt\n",
      "Loading file: competition-gnt\\C031-f-f.gnt\n",
      "Loading file: competition-gnt\\C032-f-f.gnt\n",
      "Loading file: competition-gnt\\C033-f-f.gnt\n",
      "Loading file: competition-gnt\\C034-f-f.gnt\n",
      "Loading file: competition-gnt\\C035-f-f.gnt\n",
      "Loading file: competition-gnt\\C036-f-f.gnt\n",
      "Loading file: competition-gnt\\C037-f-f.gnt\n",
      "Loading file: competition-gnt\\C038-f-f.gnt\n",
      "Loading file: competition-gnt\\C039-f-f.gnt\n",
      "Loading file: competition-gnt\\C040-f-f.gnt\n",
      "Loading file: competition-gnt\\C041-f-f.gnt\n",
      "Loading file: competition-gnt\\C042-f-f.gnt\n",
      "Loading file: competition-gnt\\C043-f-f.gnt\n",
      "Loading file: competition-gnt\\C044-f-f.gnt\n",
      "Loading file: competition-gnt\\C045-f-f.gnt\n",
      "Loading file: competition-gnt\\C046-f-f.gnt\n",
      "Loading file: competition-gnt\\C047-f-f.gnt\n",
      "Loading file: competition-gnt\\C048-f-f.gnt\n",
      "Loading file: competition-gnt\\C049-f-f.gnt\n",
      "Loading file: competition-gnt\\C050-f-f.gnt\n",
      "Loading file: competition-gnt\\C051-f-f.gnt\n",
      "Loading file: competition-gnt\\C052-f-f.gnt\n",
      "Loading file: competition-gnt\\C053-f-f.gnt\n",
      "Loading file: competition-gnt\\C054-f-f.gnt\n",
      "Loading file: competition-gnt\\C055-f-f.gnt\n",
      "Loading file: competition-gnt\\C056-f-f.gnt\n",
      "Loading file: competition-gnt\\C057-f-f.gnt\n",
      "Loading file: competition-gnt\\C058-f-f.gnt\n",
      "Loading file: competition-gnt\\C059-f-f.gnt\n",
      "Loading file: competition-gnt\\C060-f-f.gnt\n"
     ]
    }
   ],
   "source": [
    "import dataset\n",
    "\n",
    "samples = []\n",
    "for label, image in dataset.load_gnt_dir(\"competition-gnt\"):\n",
    "    samples.append([label, image.height, image.width])\n",
    "    # Image is PIL.Image.Image\n",
    "    # output_image(\"HWDB1.1trn_gnt\", label, image)"
   ]
  },
  {
   "cell_type": "code",
   "execution_count": 3,
   "metadata": {
    "collapsed": true
   },
   "outputs": [],
   "source": [
    "from pandas import DataFrame\n",
    "data = DataFrame(samples, columns=[\"Label\", \"Height\", \"Width\"])"
   ]
  },
  {
   "cell_type": "code",
   "execution_count": 4,
   "metadata": {},
   "outputs": [
    {
     "name": "stdout",
     "output_type": "stream",
     "text": [
      "Average dimensions: 84.7899553959 x 72.193330333\n"
     ]
    }
   ],
   "source": [
    "print(\"Average dimensions: %s x %s\" % (data[\"Height\"].mean(), data[\"Width\"].mean()))"
   ]
  },
  {
   "cell_type": "code",
   "execution_count": 5,
   "metadata": {},
   "outputs": [
    {
     "data": {
      "text/plain": [
       "<matplotlib.axes._subplots.AxesSubplot at 0x261f5310c18>"
      ]
     },
     "execution_count": 5,
     "metadata": {},
     "output_type": "execute_result"
    },
    {
     "data": {
      "image/png": "[encoded data removed]",
      "text/plain": [
       "<matplotlib.figure.Figure at 0x261f0238550>"
      ]
     },
     "metadata": {},
     "output_type": "display_data"
    }
   ],
   "source": [
    "data[\"Height\"].hist(bins=50)"
   ]
  },
  {
   "cell_type": "code",
   "execution_count": 6,
   "metadata": {},
   "outputs": [
    {
     "data": {
      "text/plain": [
       "<matplotlib.axes._subplots.AxesSubplot at 0x261f02382e8>"
      ]
     },
     "execution_count": 6,
     "metadata": {},
     "output_type": "execute_result"
    },
    {
     "data": {
      "image/png": "[encoded data removed]",
      "text/plain": [
       "<matplotlib.figure.Figure at 0x261f5574a58>"
      ]
     },
     "metadata": {},
     "output_type": "display_data"
    }
   ],
   "source": [
    "data[\"Width\"].hist(bins=50)"
   ]
  },
  {
   "cell_type": "code",
   "execution_count": 7,
   "metadata": {
    "collapsed": true
   },
   "outputs": [],
   "source": [
    "grouped = data.groupby([\"Label\"])"
   ]
  },
  {
   "cell_type": "code",
   "execution_count": 8,
   "metadata": {},
   "outputs": [
    {
     "data": {
      "text/html": [
       "<div>\n",
       "<style>\n",
       "    .dataframe thead tr:only-child th {\n",
       "        text-align: right;\n",
       "    }\n",
       "\n",
       "    .dataframe thead th {\n",
       "        text-align: left;\n",
       "    }\n",
       "\n",
       "    .dataframe tbody tr th {\n",
       "        vertical-align: top;\n",
       "    }\n",
       "</style>\n",
       "<table border=\"1\" class=\"dataframe\">\n",
       "  <thead>\n",
       "    <tr style=\"text-align: right;\">\n",
       "      <th></th>\n",
       "      <th>Height</th>\n",
       "      <th>Width</th>\n",
       "    </tr>\n",
       "    <tr>\n",
       "      <th>Label</th>\n",
       "      <th></th>\n",
       "      <th></th>\n",
       "    </tr>\n",
       "  </thead>\n",
       "  <tbody>\n",
       "    <tr>\n",
       "      <th>一</th>\n",
       "      <td>3.540883</td>\n",
       "      <td>9.398206</td>\n",
       "    </tr>\n",
       "    <tr>\n",
       "      <th>丁</th>\n",
       "      <td>14.090071</td>\n",
       "      <td>10.602730</td>\n",
       "    </tr>\n",
       "    <tr>\n",
       "      <th>七</th>\n",
       "      <td>10.517137</td>\n",
       "      <td>14.553615</td>\n",
       "    </tr>\n",
       "    <tr>\n",
       "      <th>万</th>\n",
       "      <td>12.208278</td>\n",
       "      <td>8.166022</td>\n",
       "    </tr>\n",
       "    <tr>\n",
       "      <th>丈</th>\n",
       "      <td>10.991831</td>\n",
       "      <td>13.046841</td>\n",
       "    </tr>\n",
       "    <tr>\n",
       "      <th>三</th>\n",
       "      <td>9.102849</td>\n",
       "      <td>13.723665</td>\n",
       "    </tr>\n",
       "    <tr>\n",
       "      <th>上</th>\n",
       "      <td>11.039528</td>\n",
       "      <td>13.185883</td>\n",
       "    </tr>\n",
       "    <tr>\n",
       "      <th>下</th>\n",
       "      <td>16.483676</td>\n",
       "      <td>8.992401</td>\n",
       "    </tr>\n",
       "    <tr>\n",
       "      <th>不</th>\n",
       "      <td>12.821625</td>\n",
       "      <td>8.550349</td>\n",
       "    </tr>\n",
       "    <tr>\n",
       "      <th>与</th>\n",
       "      <td>12.520040</td>\n",
       "      <td>9.359789</td>\n",
       "    </tr>\n",
       "    <tr>\n",
       "      <th>丑</th>\n",
       "      <td>9.481636</td>\n",
       "      <td>14.532216</td>\n",
       "    </tr>\n",
       "    <tr>\n",
       "      <th>专</th>\n",
       "      <td>10.251237</td>\n",
       "      <td>9.765557</td>\n",
       "    </tr>\n",
       "    <tr>\n",
       "      <th>且</th>\n",
       "      <td>12.954015</td>\n",
       "      <td>16.123771</td>\n",
       "    </tr>\n",
       "    <tr>\n",
       "      <th>世</th>\n",
       "      <td>11.296959</td>\n",
       "      <td>11.198021</td>\n",
       "    </tr>\n",
       "    <tr>\n",
       "      <th>丘</th>\n",
       "      <td>11.055126</td>\n",
       "      <td>16.526806</td>\n",
       "    </tr>\n",
       "    <tr>\n",
       "      <th>丙</th>\n",
       "      <td>12.318410</td>\n",
       "      <td>9.426253</td>\n",
       "    </tr>\n",
       "    <tr>\n",
       "      <th>业</th>\n",
       "      <td>9.817803</td>\n",
       "      <td>15.222776</td>\n",
       "    </tr>\n",
       "    <tr>\n",
       "      <th>丛</th>\n",
       "      <td>10.536780</td>\n",
       "      <td>10.535922</td>\n",
       "    </tr>\n",
       "    <tr>\n",
       "      <th>东</th>\n",
       "      <td>11.417055</td>\n",
       "      <td>13.111549</td>\n",
       "    </tr>\n",
       "    <tr>\n",
       "      <th>丝</th>\n",
       "      <td>13.404876</td>\n",
       "      <td>13.329986</td>\n",
       "    </tr>\n",
       "    <tr>\n",
       "      <th>丢</th>\n",
       "      <td>11.824708</td>\n",
       "      <td>10.320075</td>\n",
       "    </tr>\n",
       "    <tr>\n",
       "      <th>两</th>\n",
       "      <td>11.390587</td>\n",
       "      <td>10.105377</td>\n",
       "    </tr>\n",
       "    <tr>\n",
       "      <th>严</th>\n",
       "      <td>20.018099</td>\n",
       "      <td>10.687378</td>\n",
       "    </tr>\n",
       "    <tr>\n",
       "      <th>丧</th>\n",
       "      <td>14.299093</td>\n",
       "      <td>18.550435</td>\n",
       "    </tr>\n",
       "    <tr>\n",
       "      <th>个</th>\n",
       "      <td>14.642755</td>\n",
       "      <td>9.673060</td>\n",
       "    </tr>\n",
       "    <tr>\n",
       "      <th>丫</th>\n",
       "      <td>16.488791</td>\n",
       "      <td>8.089262</td>\n",
       "    </tr>\n",
       "    <tr>\n",
       "      <th>中</th>\n",
       "      <td>16.044817</td>\n",
       "      <td>8.559793</td>\n",
       "    </tr>\n",
       "    <tr>\n",
       "      <th>丰</th>\n",
       "      <td>20.830117</td>\n",
       "      <td>15.199019</td>\n",
       "    </tr>\n",
       "    <tr>\n",
       "      <th>串</th>\n",
       "      <td>14.840965</td>\n",
       "      <td>9.294707</td>\n",
       "    </tr>\n",
       "    <tr>\n",
       "      <th>临</th>\n",
       "      <td>13.247950</td>\n",
       "      <td>9.749692</td>\n",
       "    </tr>\n",
       "    <tr>\n",
       "      <th>...</th>\n",
       "      <td>...</td>\n",
       "      <td>...</td>\n",
       "    </tr>\n",
       "    <tr>\n",
       "      <th>鸵</th>\n",
       "      <td>12.233124</td>\n",
       "      <td>11.199508</td>\n",
       "    </tr>\n",
       "    <tr>\n",
       "      <th>鸽</th>\n",
       "      <td>13.263134</td>\n",
       "      <td>13.393649</td>\n",
       "    </tr>\n",
       "    <tr>\n",
       "      <th>鸿</th>\n",
       "      <td>12.243942</td>\n",
       "      <td>10.934461</td>\n",
       "    </tr>\n",
       "    <tr>\n",
       "      <th>鹃</th>\n",
       "      <td>14.180456</td>\n",
       "      <td>10.761508</td>\n",
       "    </tr>\n",
       "    <tr>\n",
       "      <th>鹅</th>\n",
       "      <td>16.061420</td>\n",
       "      <td>12.572266</td>\n",
       "    </tr>\n",
       "    <tr>\n",
       "      <th>鹊</th>\n",
       "      <td>14.256280</td>\n",
       "      <td>11.652926</td>\n",
       "    </tr>\n",
       "    <tr>\n",
       "      <th>鹏</th>\n",
       "      <td>13.865537</td>\n",
       "      <td>13.625116</td>\n",
       "    </tr>\n",
       "    <tr>\n",
       "      <th>鹤</th>\n",
       "      <td>13.371443</td>\n",
       "      <td>13.343051</td>\n",
       "    </tr>\n",
       "    <tr>\n",
       "      <th>鹰</th>\n",
       "      <td>13.460509</td>\n",
       "      <td>10.861688</td>\n",
       "    </tr>\n",
       "    <tr>\n",
       "      <th>鹿</th>\n",
       "      <td>14.505756</td>\n",
       "      <td>15.480405</td>\n",
       "    </tr>\n",
       "    <tr>\n",
       "      <th>麓</th>\n",
       "      <td>14.815961</td>\n",
       "      <td>11.912807</td>\n",
       "    </tr>\n",
       "    <tr>\n",
       "      <th>麦</th>\n",
       "      <td>12.071772</td>\n",
       "      <td>13.598718</td>\n",
       "    </tr>\n",
       "    <tr>\n",
       "      <th>麻</th>\n",
       "      <td>15.269139</td>\n",
       "      <td>12.071772</td>\n",
       "    </tr>\n",
       "    <tr>\n",
       "      <th>黄</th>\n",
       "      <td>12.385490</td>\n",
       "      <td>12.974056</td>\n",
       "    </tr>\n",
       "    <tr>\n",
       "      <th>黍</th>\n",
       "      <td>11.478921</td>\n",
       "      <td>14.468471</td>\n",
       "    </tr>\n",
       "    <tr>\n",
       "      <th>黎</th>\n",
       "      <td>13.364290</td>\n",
       "      <td>12.545634</td>\n",
       "    </tr>\n",
       "    <tr>\n",
       "      <th>黑</th>\n",
       "      <td>13.209781</td>\n",
       "      <td>14.059548</td>\n",
       "    </tr>\n",
       "    <tr>\n",
       "      <th>黔</th>\n",
       "      <td>13.150880</td>\n",
       "      <td>13.224161</td>\n",
       "    </tr>\n",
       "    <tr>\n",
       "      <th>默</th>\n",
       "      <td>12.264632</td>\n",
       "      <td>12.816127</td>\n",
       "    </tr>\n",
       "    <tr>\n",
       "      <th>鼎</th>\n",
       "      <td>13.785729</td>\n",
       "      <td>9.303711</td>\n",
       "    </tr>\n",
       "    <tr>\n",
       "      <th>鼓</th>\n",
       "      <td>12.298404</td>\n",
       "      <td>18.055082</td>\n",
       "    </tr>\n",
       "    <tr>\n",
       "      <th>鼠</th>\n",
       "      <td>12.544824</td>\n",
       "      <td>13.241296</td>\n",
       "    </tr>\n",
       "    <tr>\n",
       "      <th>鼻</th>\n",
       "      <td>17.729440</td>\n",
       "      <td>13.375277</td>\n",
       "    </tr>\n",
       "    <tr>\n",
       "      <th>齐</th>\n",
       "      <td>20.430425</td>\n",
       "      <td>13.387573</td>\n",
       "    </tr>\n",
       "    <tr>\n",
       "      <th>齿</th>\n",
       "      <td>11.458732</td>\n",
       "      <td>12.574423</td>\n",
       "    </tr>\n",
       "    <tr>\n",
       "      <th>龄</th>\n",
       "      <td>12.606600</td>\n",
       "      <td>12.519605</td>\n",
       "    </tr>\n",
       "    <tr>\n",
       "      <th>龋</th>\n",
       "      <td>13.226952</td>\n",
       "      <td>11.846285</td>\n",
       "    </tr>\n",
       "    <tr>\n",
       "      <th>龙</th>\n",
       "      <td>12.263169</td>\n",
       "      <td>11.727798</td>\n",
       "    </tr>\n",
       "    <tr>\n",
       "      <th>龚</th>\n",
       "      <td>13.375699</td>\n",
       "      <td>8.975469</td>\n",
       "    </tr>\n",
       "    <tr>\n",
       "      <th>龟</th>\n",
       "      <td>11.802583</td>\n",
       "      <td>13.434714</td>\n",
       "    </tr>\n",
       "  </tbody>\n",
       "</table>\n",
       "<p>3755 rows × 2 columns</p>\n",
       "</div>"
      ],
      "text/plain": [
       "          Height      Width\n",
       "Label                      \n",
       "一       3.540883   9.398206\n",
       "丁      14.090071  10.602730\n",
       "七      10.517137  14.553615\n",
       "万      12.208278   8.166022\n",
       "丈      10.991831  13.046841\n",
       "三       9.102849  13.723665\n",
       "上      11.039528  13.185883\n",
       "下      16.483676   8.992401\n",
       "不      12.821625   8.550349\n",
       "与      12.520040   9.359789\n",
       "丑       9.481636  14.532216\n",
       "专      10.251237   9.765557\n",
       "且      12.954015  16.123771\n",
       "世      11.296959  11.198021\n",
       "丘      11.055126  16.526806\n",
       "丙      12.318410   9.426253\n",
       "业       9.817803  15.222776\n",
       "丛      10.536780  10.535922\n",
       "东      11.417055  13.111549\n",
       "丝      13.404876  13.329986\n",
       "丢      11.824708  10.320075\n",
       "两      11.390587  10.105377\n",
       "严      20.018099  10.687378\n",
       "丧      14.299093  18.550435\n",
       "个      14.642755   9.673060\n",
       "丫      16.488791   8.089262\n",
       "中      16.044817   8.559793\n",
       "丰      20.830117  15.199019\n",
       "串      14.840965   9.294707\n",
       "临      13.247950   9.749692\n",
       "...          ...        ...\n",
       "鸵      12.233124  11.199508\n",
       "鸽      13.263134  13.393649\n",
       "鸿      12.243942  10.934461\n",
       "鹃      14.180456  10.761508\n",
       "鹅      16.061420  12.572266\n",
       "鹊      14.256280  11.652926\n",
       "鹏      13.865537  13.625116\n",
       "鹤      13.371443  13.343051\n",
       "鹰      13.460509  10.861688\n",
       "鹿      14.505756  15.480405\n",
       "麓      14.815961  11.912807\n",
       "麦      12.071772  13.598718\n",
       "麻      15.269139  12.071772\n",
       "黄      12.385490  12.974056\n",
       "黍      11.478921  14.468471\n",
       "黎      13.364290  12.545634\n",
       "黑      13.209781  14.059548\n",
       "黔      13.150880  13.224161\n",
       "默      12.264632  12.816127\n",
       "鼎      13.785729   9.303711\n",
       "鼓      12.298404  18.055082\n",
       "鼠      12.544824  13.241296\n",
       "鼻      17.729440  13.375277\n",
       "齐      20.430425  13.387573\n",
       "齿      11.458732  12.574423\n",
       "龄      12.606600  12.519605\n",
       "龋      13.226952  11.846285\n",
       "龙      12.263169  11.727798\n",
       "龚      13.375699   8.975469\n",
       "龟      11.802583  13.434714\n",
       "\n",
       "[3755 rows x 2 columns]"
      ]
     },
     "execution_count": 8,
     "metadata": {},
     "output_type": "execute_result"
    }
   ],
   "source": [
    "grouped.std()"
   ]
  },
  {
   "cell_type": "code",
   "execution_count": 9,
   "metadata": {},
   "outputs": [
    {
     "data": {
      "text/html": [
       "<div>\n",
       "<style>\n",
       "    .dataframe thead tr:only-child th {\n",
       "        text-align: right;\n",
       "    }\n",
       "\n",
       "    .dataframe thead th {\n",
       "        text-align: left;\n",
       "    }\n",
       "\n",
       "    .dataframe tbody tr th {\n",
       "        vertical-align: top;\n",
       "    }\n",
       "</style>\n",
       "<table border=\"1\" class=\"dataframe\">\n",
       "  <thead>\n",
       "    <tr style=\"text-align: right;\">\n",
       "      <th></th>\n",
       "      <th>Height</th>\n",
       "      <th>Width</th>\n",
       "    </tr>\n",
       "    <tr>\n",
       "      <th>Label</th>\n",
       "      <th></th>\n",
       "      <th></th>\n",
       "    </tr>\n",
       "  </thead>\n",
       "  <tbody>\n",
       "    <tr>\n",
       "      <th>一</th>\n",
       "      <td>11.933333</td>\n",
       "      <td>43.750000</td>\n",
       "    </tr>\n",
       "    <tr>\n",
       "      <th>丁</th>\n",
       "      <td>73.508475</td>\n",
       "      <td>42.593220</td>\n",
       "    </tr>\n",
       "    <tr>\n",
       "      <th>七</th>\n",
       "      <td>61.898305</td>\n",
       "      <td>60.949153</td>\n",
       "    </tr>\n",
       "    <tr>\n",
       "      <th>万</th>\n",
       "      <td>66.637931</td>\n",
       "      <td>45.982759</td>\n",
       "    </tr>\n",
       "    <tr>\n",
       "      <th>丈</th>\n",
       "      <td>72.600000</td>\n",
       "      <td>58.016667</td>\n",
       "    </tr>\n",
       "    <tr>\n",
       "      <th>三</th>\n",
       "      <td>48.950000</td>\n",
       "      <td>52.000000</td>\n",
       "    </tr>\n",
       "    <tr>\n",
       "      <th>上</th>\n",
       "      <td>59.600000</td>\n",
       "      <td>54.716667</td>\n",
       "    </tr>\n",
       "    <tr>\n",
       "      <th>下</th>\n",
       "      <td>68.816667</td>\n",
       "      <td>46.133333</td>\n",
       "    </tr>\n",
       "    <tr>\n",
       "      <th>不</th>\n",
       "      <td>63.750000</td>\n",
       "      <td>53.900000</td>\n",
       "    </tr>\n",
       "    <tr>\n",
       "      <th>与</th>\n",
       "      <td>71.166667</td>\n",
       "      <td>49.766667</td>\n",
       "    </tr>\n",
       "    <tr>\n",
       "      <th>丑</th>\n",
       "      <td>62.283333</td>\n",
       "      <td>57.033333</td>\n",
       "    </tr>\n",
       "    <tr>\n",
       "      <th>专</th>\n",
       "      <td>78.116667</td>\n",
       "      <td>49.300000</td>\n",
       "    </tr>\n",
       "    <tr>\n",
       "      <th>且</th>\n",
       "      <td>71.083333</td>\n",
       "      <td>64.083333</td>\n",
       "    </tr>\n",
       "    <tr>\n",
       "      <th>世</th>\n",
       "      <td>65.610169</td>\n",
       "      <td>63.186441</td>\n",
       "    </tr>\n",
       "    <tr>\n",
       "      <th>丘</th>\n",
       "      <td>67.766667</td>\n",
       "      <td>66.016667</td>\n",
       "    </tr>\n",
       "    <tr>\n",
       "      <th>丙</th>\n",
       "      <td>65.950000</td>\n",
       "      <td>57.600000</td>\n",
       "    </tr>\n",
       "    <tr>\n",
       "      <th>业</th>\n",
       "      <td>58.915254</td>\n",
       "      <td>64.305085</td>\n",
       "    </tr>\n",
       "    <tr>\n",
       "      <th>丛</th>\n",
       "      <td>63.400000</td>\n",
       "      <td>61.666667</td>\n",
       "    </tr>\n",
       "    <tr>\n",
       "      <th>东</th>\n",
       "      <td>79.300000</td>\n",
       "      <td>60.550000</td>\n",
       "    </tr>\n",
       "    <tr>\n",
       "      <th>丝</th>\n",
       "      <td>68.327869</td>\n",
       "      <td>62.754098</td>\n",
       "    </tr>\n",
       "    <tr>\n",
       "      <th>丢</th>\n",
       "      <td>76.800000</td>\n",
       "      <td>54.266667</td>\n",
       "    </tr>\n",
       "    <tr>\n",
       "      <th>两</th>\n",
       "      <td>66.983333</td>\n",
       "      <td>62.500000</td>\n",
       "    </tr>\n",
       "    <tr>\n",
       "      <th>严</th>\n",
       "      <td>91.233333</td>\n",
       "      <td>55.483333</td>\n",
       "    </tr>\n",
       "    <tr>\n",
       "      <th>丧</th>\n",
       "      <td>87.135593</td>\n",
       "      <td>72.677966</td>\n",
       "    </tr>\n",
       "    <tr>\n",
       "      <th>个</th>\n",
       "      <td>78.372881</td>\n",
       "      <td>46.813559</td>\n",
       "    </tr>\n",
       "    <tr>\n",
       "      <th>丫</th>\n",
       "      <td>81.533333</td>\n",
       "      <td>37.766667</td>\n",
       "    </tr>\n",
       "    <tr>\n",
       "      <th>中</th>\n",
       "      <td>83.566667</td>\n",
       "      <td>45.133333</td>\n",
       "    </tr>\n",
       "    <tr>\n",
       "      <th>丰</th>\n",
       "      <td>90.933333</td>\n",
       "      <td>58.200000</td>\n",
       "    </tr>\n",
       "    <tr>\n",
       "      <th>串</th>\n",
       "      <td>98.508475</td>\n",
       "      <td>49.525424</td>\n",
       "    </tr>\n",
       "    <tr>\n",
       "      <th>临</th>\n",
       "      <td>78.983333</td>\n",
       "      <td>64.833333</td>\n",
       "    </tr>\n",
       "    <tr>\n",
       "      <th>...</th>\n",
       "      <td>...</td>\n",
       "      <td>...</td>\n",
       "    </tr>\n",
       "    <tr>\n",
       "      <th>鸵</th>\n",
       "      <td>85.271186</td>\n",
       "      <td>85.322034</td>\n",
       "    </tr>\n",
       "    <tr>\n",
       "      <th>鸽</th>\n",
       "      <td>87.566667</td>\n",
       "      <td>83.000000</td>\n",
       "    </tr>\n",
       "    <tr>\n",
       "      <th>鸿</th>\n",
       "      <td>81.866667</td>\n",
       "      <td>79.383333</td>\n",
       "    </tr>\n",
       "    <tr>\n",
       "      <th>鹃</th>\n",
       "      <td>87.186441</td>\n",
       "      <td>70.016949</td>\n",
       "    </tr>\n",
       "    <tr>\n",
       "      <th>鹅</th>\n",
       "      <td>92.116667</td>\n",
       "      <td>86.150000</td>\n",
       "    </tr>\n",
       "    <tr>\n",
       "      <th>鹊</th>\n",
       "      <td>89.750000</td>\n",
       "      <td>78.850000</td>\n",
       "    </tr>\n",
       "    <tr>\n",
       "      <th>鹏</th>\n",
       "      <td>87.533333</td>\n",
       "      <td>86.816667</td>\n",
       "    </tr>\n",
       "    <tr>\n",
       "      <th>鹤</th>\n",
       "      <td>89.133333</td>\n",
       "      <td>86.783333</td>\n",
       "    </tr>\n",
       "    <tr>\n",
       "      <th>鹰</th>\n",
       "      <td>108.633333</td>\n",
       "      <td>69.300000</td>\n",
       "    </tr>\n",
       "    <tr>\n",
       "      <th>鹿</th>\n",
       "      <td>90.300000</td>\n",
       "      <td>77.466667</td>\n",
       "    </tr>\n",
       "    <tr>\n",
       "      <th>麓</th>\n",
       "      <td>108.250000</td>\n",
       "      <td>77.983333</td>\n",
       "    </tr>\n",
       "    <tr>\n",
       "      <th>麦</th>\n",
       "      <td>86.633333</td>\n",
       "      <td>63.083333</td>\n",
       "    </tr>\n",
       "    <tr>\n",
       "      <th>麻</th>\n",
       "      <td>90.350000</td>\n",
       "      <td>79.966667</td>\n",
       "    </tr>\n",
       "    <tr>\n",
       "      <th>黄</th>\n",
       "      <td>91.338983</td>\n",
       "      <td>65.135593</td>\n",
       "    </tr>\n",
       "    <tr>\n",
       "      <th>黍</th>\n",
       "      <td>92.423729</td>\n",
       "      <td>69.644068</td>\n",
       "    </tr>\n",
       "    <tr>\n",
       "      <th>黎</th>\n",
       "      <td>98.850000</td>\n",
       "      <td>75.883333</td>\n",
       "    </tr>\n",
       "    <tr>\n",
       "      <th>黑</th>\n",
       "      <td>85.900000</td>\n",
       "      <td>69.083333</td>\n",
       "    </tr>\n",
       "    <tr>\n",
       "      <th>黔</th>\n",
       "      <td>88.050847</td>\n",
       "      <td>81.813559</td>\n",
       "    </tr>\n",
       "    <tr>\n",
       "      <th>默</th>\n",
       "      <td>80.550000</td>\n",
       "      <td>83.866667</td>\n",
       "    </tr>\n",
       "    <tr>\n",
       "      <th>鼎</th>\n",
       "      <td>102.233333</td>\n",
       "      <td>69.816667</td>\n",
       "    </tr>\n",
       "    <tr>\n",
       "      <th>鼓</th>\n",
       "      <td>83.559322</td>\n",
       "      <td>86.745763</td>\n",
       "    </tr>\n",
       "    <tr>\n",
       "      <th>鼠</th>\n",
       "      <td>88.316667</td>\n",
       "      <td>77.083333</td>\n",
       "    </tr>\n",
       "    <tr>\n",
       "      <th>鼻</th>\n",
       "      <td>116.350000</td>\n",
       "      <td>60.483333</td>\n",
       "    </tr>\n",
       "    <tr>\n",
       "      <th>齐</th>\n",
       "      <td>100.766667</td>\n",
       "      <td>55.400000</td>\n",
       "    </tr>\n",
       "    <tr>\n",
       "      <th>齿</th>\n",
       "      <td>81.450000</td>\n",
       "      <td>61.050000</td>\n",
       "    </tr>\n",
       "    <tr>\n",
       "      <th>龄</th>\n",
       "      <td>83.932203</td>\n",
       "      <td>79.186441</td>\n",
       "    </tr>\n",
       "    <tr>\n",
       "      <th>龋</th>\n",
       "      <td>85.716667</td>\n",
       "      <td>87.066667</td>\n",
       "    </tr>\n",
       "    <tr>\n",
       "      <th>龙</th>\n",
       "      <td>75.766667</td>\n",
       "      <td>63.866667</td>\n",
       "    </tr>\n",
       "    <tr>\n",
       "      <th>龚</th>\n",
       "      <td>100.350000</td>\n",
       "      <td>61.483333</td>\n",
       "    </tr>\n",
       "    <tr>\n",
       "      <th>龟</th>\n",
       "      <td>87.120690</td>\n",
       "      <td>68.293103</td>\n",
       "    </tr>\n",
       "  </tbody>\n",
       "</table>\n",
       "<p>3755 rows × 2 columns</p>\n",
       "</div>"
      ],
      "text/plain": [
       "           Height      Width\n",
       "Label                       \n",
       "一       11.933333  43.750000\n",
       "丁       73.508475  42.593220\n",
       "七       61.898305  60.949153\n",
       "万       66.637931  45.982759\n",
       "丈       72.600000  58.016667\n",
       "三       48.950000  52.000000\n",
       "上       59.600000  54.716667\n",
       "下       68.816667  46.133333\n",
       "不       63.750000  53.900000\n",
       "与       71.166667  49.766667\n",
       "丑       62.283333  57.033333\n",
       "专       78.116667  49.300000\n",
       "且       71.083333  64.083333\n",
       "世       65.610169  63.186441\n",
       "丘       67.766667  66.016667\n",
       "丙       65.950000  57.600000\n",
       "业       58.915254  64.305085\n",
       "丛       63.400000  61.666667\n",
       "东       79.300000  60.550000\n",
       "丝       68.327869  62.754098\n",
       "丢       76.800000  54.266667\n",
       "两       66.983333  62.500000\n",
       "严       91.233333  55.483333\n",
       "丧       87.135593  72.677966\n",
       "个       78.372881  46.813559\n",
       "丫       81.533333  37.766667\n",
       "中       83.566667  45.133333\n",
       "丰       90.933333  58.200000\n",
       "串       98.508475  49.525424\n",
       "临       78.983333  64.833333\n",
       "...           ...        ...\n",
       "鸵       85.271186  85.322034\n",
       "鸽       87.566667  83.000000\n",
       "鸿       81.866667  79.383333\n",
       "鹃       87.186441  70.016949\n",
       "鹅       92.116667  86.150000\n",
       "鹊       89.750000  78.850000\n",
       "鹏       87.533333  86.816667\n",
       "鹤       89.133333  86.783333\n",
       "鹰      108.633333  69.300000\n",
       "鹿       90.300000  77.466667\n",
       "麓      108.250000  77.983333\n",
       "麦       86.633333  63.083333\n",
       "麻       90.350000  79.966667\n",
       "黄       91.338983  65.135593\n",
       "黍       92.423729  69.644068\n",
       "黎       98.850000  75.883333\n",
       "黑       85.900000  69.083333\n",
       "黔       88.050847  81.813559\n",
       "默       80.550000  83.866667\n",
       "鼎      102.233333  69.816667\n",
       "鼓       83.559322  86.745763\n",
       "鼠       88.316667  77.083333\n",
       "鼻      116.350000  60.483333\n",
       "齐      100.766667  55.400000\n",
       "齿       81.450000  61.050000\n",
       "龄       83.932203  79.186441\n",
       "龋       85.716667  87.066667\n",
       "龙       75.766667  63.866667\n",
       "龚      100.350000  61.483333\n",
       "龟       87.120690  68.293103\n",
       "\n",
       "[3755 rows x 2 columns]"
      ]
     },
     "execution_count": 9,
     "metadata": {},
     "output_type": "execute_result"
    }
   ],
   "source": [
    "grouped.mean()"
   ]
  },
  {
   "cell_type": "code",
   "execution_count": 5,
   "metadata": {},
   "outputs": [
    {
     "data": {
      "image/jpeg": "[encoded data removed]",
      "text/plain": [
       "<IPython.core.display.Image object>"
      ]
     },
     "metadata": {},
     "output_type": "display_data"
    },
    {
     "data": {
      "image/jpeg": "[encoded data removed]",
      "text/plain": [
       "<IPython.core.display.Image object>"
      ]
     },
     "metadata": {},
     "output_type": "display_data"
    },
    {
     "data": {
      "image/jpeg": "[encoded data removed]",
      "text/plain": [
       "<IPython.core.display.Image object>"
      ]
     },
     "metadata": {},
     "output_type": "display_data"
    },
    {
     "data": {
      "image/jpeg": "[encoded data removed]",
      "text/plain": [
       "<IPython.core.display.Image object>"
      ]
     },
     "metadata": {},
     "output_type": "display_data"
    },
    {
     "data": {
      "image/jpeg": "[encoded data removed]",
      "text/plain": [
       "<IPython.core.display.Image object>"
      ]
     },
     "metadata": {},
     "output_type": "display_data"
    },
    {
     "data": {
      "image/jpeg": "[encoded data removed]",
      "text/plain": [
       "<IPython.core.display.Image object>"
      ]
     },
     "metadata": {},
     "output_type": "display_data"
    },
    {
     "data": {
      "image/jpeg": "[encoded data removed]",
      "text/plain": [
       "<IPython.core.display.Image object>"
      ]
     },
     "metadata": {},
     "output_type": "display_data"
    },
    {
     "data": {
      "image/jpeg": "[encoded data removed]",
      "text/plain": [
       "<IPython.core.display.Image object>"
      ]
     },
     "metadata": {},
     "output_type": "display_data"
    },
    {
     "data": {
      "image/jpeg": "[encoded data removed]",
      "text/plain": [
       "<IPython.core.display.Image object>"
      ]
     },
     "metadata": {},
     "output_type": "display_data"
    },
    {
     "data": {
      "image/jpeg": "[encoded data removed]",
      "text/plain": [
       "<IPython.core.display.Image object>"
      ]
     },
     "metadata": {},
     "output_type": "display_data"
    },
    {
     "data": {
      "image/jpeg": "[encoded data removed]",
      "text/plain": [
       "<IPython.core.display.Image object>"
      ]
     },
     "metadata": {},
     "output_type": "display_data"
    },
    {
     "data": {
      "image/jpeg": "[encoded data removed]",
      "text/plain": [
       "<IPython.core.display.Image object>"
      ]
     },
     "metadata": {},
     "output_type": "display_data"
    },
    {
     "data": {
      "image/jpeg": "[encoded data removed]",
      "text/plain": [
       "<IPython.core.display.Image object>"
      ]
     },
     "metadata": {},
     "output_type": "display_data"
    },
    {
     "data": {
      "image/jpeg": "[encoded data removed]",
      "text/plain": [
       "<IPython.core.display.Image object>"
      ]
     },
     "metadata": {},
     "output_type": "display_data"
    },
    {
     "data": {
      "image/jpeg": "[encoded data removed]",
      "text/plain": [
       "<IPython.core.display.Image object>"
      ]
     },
     "metadata": {},
     "output_type": "display_data"
    },
    {
     "data": {
      "image/jpeg": "[encoded data removed]",
      "text/plain": [
       "<IPython.core.display.Image object>"
      ]
     },
     "metadata": {},
     "output_type": "display_data"
    },
    {
     "data": {
      "image/jpeg": "[encoded data removed]",
      "text/plain": [
       "<IPython.core.display.Image object>"
      ]
     },
     "metadata": {},
     "output_type": "display_data"
    },
    {
     "data": {
      "image/jpeg": "[encoded data removed]",
      "text/plain": [
       "<IPython.core.display.Image object>"
      ]
     },
     "metadata": {},
     "output_type": "display_data"
    },
    {
     "data": {
      "image/jpeg": "[encoded data removed]",
      "text/plain": [
       "<IPython.core.display.Image object>"
      ]
     },
     "metadata": {},
     "output_type": "display_data"
    },
    {
     "data": {
      "image/jpeg": "[encoded data removed]",
      "text/plain": [
       "<IPython.core.display.Image object>"
      ]
     },
     "metadata": {},
     "output_type": "display_data"
    },
    {
     "data": {
      "image/jpeg": "[encoded data removed]",
      "text/plain": [
       "<IPython.core.display.Image object>"
      ]
     },
     "metadata": {},
     "output_type": "display_data"
    },
    {
     "data": {
      "image/jpeg": "[encoded data removed]",
      "text/plain": [
       "<IPython.core.display.Image object>"
      ]
     },
     "metadata": {},
     "output_type": "display_data"
    },
    {
     "data": {
      "image/jpeg": "[encoded data removed]",
      "text/plain": [
       "<IPython.core.display.Image object>"
      ]
     },
     "metadata": {},
     "output_type": "display_data"
    },
    {
     "data": {
      "image/jpeg": "[encoded data removed]",
      "text/plain": [
       "<IPython.core.display.Image object>"
      ]
     },
     "metadata": {},
     "output_type": "display_data"
    },
    {
     "data": {
      "image/jpeg": "[encoded data removed]",
      "text/plain": [
       "<IPython.core.display.Image object>"
      ]
     },
     "metadata": {},
     "output_type": "display_data"
    },
    {
     "data": {
      "image/jpeg": "[encoded data removed]",
      "text/plain": [
       "<IPython.core.display.Image object>"
      ]
     },
     "metadata": {},
     "output_type": "display_data"
    },
    {
     "data": {
      "image/jpeg": "[encoded data removed]",
      "text/plain": [
       "<IPython.core.display.Image object>"
      ]
     },
     "metadata": {},
     "output_type": "display_data"
    },
    {
     "data": {
      "image/jpeg": "[encoded data removed]",
      "text/plain": [
       "<IPython.core.display.Image object>"
      ]
     },
     "metadata": {},
     "output_type": "display_data"
    },
    {
     "data": {
      "image/jpeg": "[encoded data removed]",
      "text/plain": [
       "<IPython.core.display.Image object>"
      ]
     },
     "metadata": {},
     "output_type": "display_data"
    },
    {
     "data": {
      "image/jpeg": "[encoded data removed]",
      "text/plain": [
       "<IPython.core.display.Image object>"
      ]
     },
     "metadata": {},
     "output_type": "display_data"
    },
    {
     "data": {
      "image/jpeg": "[encoded data removed]",
      "text/plain": [
       "<IPython.core.display.Image object>"
      ]
     },
     "metadata": {},
     "output_type": "display_data"
    },
    {
     "data": {
      "image/jpeg": "[encoded data removed]",
      "text/plain": [
       "<IPython.core.display.Image object>"
      ]
     },
     "metadata": {},
     "output_type": "display_data"
    },
    {
     "data": {
      "image/jpeg": "[encoded data removed]",
      "text/plain": [
       "<IPython.core.display.Image object>"
      ]
     },
     "metadata": {},
     "output_type": "display_data"
    },
    {
     "data": {
      "image/jpeg": "[encoded data removed]",
      "text/plain": [
       "<IPython.core.display.Image object>"
      ]
     },
     "metadata": {},
     "output_type": "display_data"
    },
    {
     "data": {
      "image/jpeg": "[encoded data removed]",
      "text/plain": [
       "<IPython.core.display.Image object>"
      ]
     },
     "metadata": {},
     "output_type": "display_data"
    },
    {
     "data": {
      "image/jpeg": "[encoded data removed]",
      "text/plain": [
       "<IPython.core.display.Image object>"
      ]
     },
     "metadata": {},
     "output_type": "display_data"
    },
    {
     "data": {
      "image/jpeg": "[encoded data removed]",
      "text/plain": [
       "<IPython.core.display.Image object>"
      ]
     },
     "metadata": {},
     "output_type": "display_data"
    },
    {
     "data": {
      "image/jpeg": "[encoded data removed]",
      "text/plain": [
       "<IPython.core.display.Image object>"
      ]
     },
     "metadata": {},
     "output_type": "display_data"
    },
    {
     "data": {
      "image/jpeg": "[encoded data removed]",
      "text/plain": [
       "<IPython.core.display.Image object>"
      ]
     },
     "metadata": {},
     "output_type": "display_data"
    },
    {
     "data": {
      "image/jpeg": "[encoded data removed]",
      "text/plain": [
       "<IPython.core.display.Image object>"
      ]
     },
     "metadata": {},
     "output_type": "display_data"
    },
    {
     "data": {
      "image/jpeg": "[encoded data removed]",
      "text/plain": [
       "<IPython.core.display.Image object>"
      ]
     },
     "metadata": {},
     "output_type": "display_data"
    },
    {
     "data": {
      "image/jpeg": "[encoded data removed]",
      "text/plain": [
       "<IPython.core.display.Image object>"
      ]
     },
     "metadata": {},
     "output_type": "display_data"
    },
    {
     "data": {
      "image/jpeg": "[encoded data removed]",
      "text/plain": [
       "<IPython.core.display.Image object>"
      ]
     },
     "metadata": {},
     "output_type": "display_data"
    },
    {
     "data": {
      "image/jpeg": "[encoded data removed]",
      "text/plain": [
       "<IPython.core.display.Image object>"
      ]
     },
     "metadata": {},
     "output_type": "display_data"
    },
    {
     "data": {
      "image/jpeg": "[encoded data removed]",
      "text/plain": [
       "<IPython.core.display.Image object>"
      ]
     },
     "metadata": {},
     "output_type": "display_data"
    },
    {
     "data": {
      "image/jpeg": "[encoded data removed]",
      "text/plain": [
       "<IPython.core.display.Image object>"
      ]
     },
     "metadata": {},
     "output_type": "display_data"
    },
    {
     "data": {
      "image/jpeg": "[encoded data removed]",
      "text/plain": [
       "<IPython.core.display.Image object>"
      ]
     },
     "metadata": {},
     "output_type": "display_data"
    },
    {
     "data": {
      "image/jpeg": "[encoded data removed]",
      "text/plain": [
       "<IPython.core.display.Image object>"
      ]
     },
     "metadata": {},
     "output_type": "display_data"
    },
    {
     "data": {
      "image/jpeg": "[encoded data removed]",
      "text/plain": [
       "<IPython.core.display.Image object>"
      ]
     },
     "metadata": {},
     "output_type": "display_data"
    },
    {
     "data": {
      "image/jpeg": "[encoded data removed]",
      "text/plain": [
       "<IPython.core.display.Image object>"
      ]
     },
     "metadata": {},
     "output_type": "display_data"
    },
    {
     "data": {
      "image/jpeg": "[encoded data removed]",
      "text/plain": [
       "<IPython.core.display.Image object>"
      ]
     },
     "metadata": {},
     "output_type": "display_data"
    },
    {
     "data": {
      "image/jpeg": "[encoded data removed]",
      "text/plain": [
       "<IPython.core.display.Image object>"
      ]
     },
     "metadata": {},
     "output_type": "display_data"
    },
    {
     "data": {
      "image/jpeg": "[encoded data removed]",
      "text/plain": [
       "<IPython.core.display.Image object>"
      ]
     },
     "metadata": {},
     "output_type": "display_data"
    },
    {
     "data": {
      "image/jpeg": "[encoded data removed]",
      "text/plain": [
       "<IPython.core.display.Image object>"
      ]
     },
     "metadata": {},
     "output_type": "display_data"
    },
    {
     "data": {
      "image/jpeg": "[encoded data removed]",
      "text/plain": [
       "<IPython.core.display.Image object>"
      ]
     },
     "metadata": {},
     "output_type": "display_data"
    },
    {
     "data": {
      "image/jpeg": "[encoded data removed]",
      "text/plain": [
       "<IPython.core.display.Image object>"
      ]
     },
     "metadata": {},
     "output_type": "display_data"
    },
    {
     "data": {
      "image/jpeg": "[encoded data removed]",
      "text/plain": [
       "<IPython.core.display.Image object>"
      ]
     },
     "metadata": {},
     "output_type": "display_data"
    },
    {
     "data": {
      "image/jpeg": "[encoded data removed]",
      "text/plain": [
       "<IPython.core.display.Image object>"
      ]
     },
     "metadata": {},
     "output_type": "display_data"
    },
    {
     "data": {
      "image/jpeg": "[encoded data removed]",
      "text/plain": [
       "<IPython.core.display.Image object>"
      ]
     },
     "metadata": {},
     "output_type": "display_data"
    },
    {
     "data": {
      "image/jpeg": "[encoded data removed]",
      "text/plain": [
       "<IPython.core.display.Image object>"
      ]
     },
     "metadata": {},
     "output_type": "display_data"
    }
   ],
   "source": [
    "from data_exploration import display_label\n",
    "\n",
    "re_size = lambda x: x.resize((85, 70))\n",
    "\n",
    "display_label(\"默\", transform=re_size)"
   ]
  },
  {
   "cell_type": "code",
   "execution_count": 8,
   "metadata": {},
   "outputs": [
    {
     "data": {
      "image/jpeg": "[encoded data removed]",
      "text/plain": [
       "<IPython.core.display.Image object>"
      ]
     },
     "metadata": {},
     "output_type": "display_data"
    },
    {
     "data": {
      "image/jpeg": "[encoded data removed]",
      "text/plain": [
       "<IPython.core.display.Image object>"
      ]
     },
     "metadata": {},
     "output_type": "display_data"
    },
    {
     "data": {
      "image/jpeg": "[encoded data removed]",
      "text/plain": [
       "<IPython.core.display.Image object>"
      ]
     },
     "metadata": {},
     "output_type": "display_data"
    },
    {
     "data": {
      "image/jpeg": "[encoded data removed]",
      "text/plain": [
       "<IPython.core.display.Image object>"
      ]
     },
     "metadata": {},
     "output_type": "display_data"
    },
    {
     "data": {
      "image/jpeg": "[encoded data removed]",
      "text/plain": [
       "<IPython.core.display.Image object>"
      ]
     },
     "metadata": {},
     "output_type": "display_data"
    },
    {
     "data": {
      "image/jpeg": "[encoded data removed]",
      "text/plain": [
       "<IPython.core.display.Image object>"
      ]
     },
     "metadata": {},
     "output_type": "display_data"
    },
    {
     "data": {
      "image/jpeg": "[encoded data removed]",
      "text/plain": [
       "<IPython.core.display.Image object>"
      ]
     },
     "metadata": {},
     "output_type": "display_data"
    },
    {
     "data": {
      "image/jpeg": "[encoded data removed]",
      "text/plain": [
       "<IPython.core.display.Image object>"
      ]
     },
     "metadata": {},
     "output_type": "display_data"
    },
    {
     "data": {
      "image/jpeg": "[encoded data removed]",
      "text/plain": [
       "<IPython.core.display.Image object>"
      ]
     },
     "metadata": {},
     "output_type": "display_data"
    },
    {
     "data": {
      "image/jpeg": "[encoded data removed]",
      "text/plain": [
       "<IPython.core.display.Image object>"
      ]
     },
     "metadata": {},
     "output_type": "display_data"
    },
    {
     "data": {
      "image/jpeg": "[encoded data removed]",
      "text/plain": [
       "<IPython.core.display.Image object>"
      ]
     },
     "metadata": {},
     "output_type": "display_data"
    },
    {
     "data": {
      "image/jpeg": "[encoded data removed]",
      "text/plain": [
       "<IPython.core.display.Image object>"
      ]
     },
     "metadata": {},
     "output_type": "display_data"
    },
    {
     "data": {
      "image/jpeg": "[encoded data removed]",
      "text/plain": [
       "<IPython.core.display.Image object>"
      ]
     },
     "metadata": {},
     "output_type": "display_data"
    },
    {
     "data": {
      "image/jpeg": "[encoded data removed]",
      "text/plain": [
       "<IPython.core.display.Image object>"
      ]
     },
     "metadata": {},
     "output_type": "display_data"
    },
    {
     "data": {
      "image/jpeg": "[encoded data removed]",
      "text/plain": [
       "<IPython.core.display.Image object>"
      ]
     },
     "metadata": {},
     "output_type": "display_data"
    },
    {
     "data": {
      "image/jpeg": "[encoded data removed]",
      "text/plain": [
       "<IPython.core.display.Image object>"
      ]
     },
     "metadata": {},
     "output_type": "display_data"
    },
    {
     "data": {
      "image/jpeg": "[encoded data removed]",
      "text/plain": [
       "<IPython.core.display.Image object>"
      ]
     },
     "metadata": {},
     "output_type": "display_data"
    },
    {
     "data": {
      "image/jpeg": "[encoded data removed]",
      "text/plain": [
       "<IPython.core.display.Image object>"
      ]
     },
     "metadata": {},
     "output_type": "display_data"
    },
    {
     "data": {
      "image/jpeg": "[encoded data removed]",
      "text/plain": [
       "<IPython.core.display.Image object>"
      ]
     },
     "metadata": {},
     "output_type": "display_data"
    },
    {
     "data": {
      "image/jpeg": "[encoded data removed]",
      "text/plain": [
       "<IPython.core.display.Image object>"
      ]
     },
     "metadata": {},
     "output_type": "display_data"
    },
    {
     "data": {
      "image/jpeg": "[encoded data removed]",
      "text/plain": [
       "<IPython.core.display.Image object>"
      ]
     },
     "metadata": {},
     "output_type": "display_data"
    },
    {
     "data": {
      "image/jpeg": "[encoded data removed]",
      "text/plain": [
       "<IPython.core.display.Image object>"
      ]
     },
     "metadata": {},
     "output_type": "display_data"
    },
    {
     "data": {
      "image/jpeg": "[encoded data removed]",
      "text/plain": [
       "<IPython.core.display.Image object>"
      ]
     },
     "metadata": {},
     "output_type": "display_data"
    },
    {
     "data": {
      "image/jpeg": "[encoded data removed]",
      "text/plain": [
       "<IPython.core.display.Image object>"
      ]
     },
     "metadata": {},
     "output_type": "display_data"
    },
    {
     "data": {
      "image/jpeg": "[encoded data removed]",
      "text/plain": [
       "<IPython.core.display.Image object>"
      ]
     },
     "metadata": {},
     "output_type": "display_data"
    },
    {
     "data": {
      "image/jpeg": "[encoded data removed]",
      "text/plain": [
       "<IPython.core.display.Image object>"
      ]
     },
     "metadata": {},
     "output_type": "display_data"
    },
    {
     "data": {
      "image/jpeg": "[encoded data removed]",
      "text/plain": [
       "<IPython.core.display.Image object>"
      ]
     },
     "metadata": {},
     "output_type": "display_data"
    },
    {
     "data": {
      "image/jpeg": "[encoded data removed]",
      "text/plain": [
       "<IPython.core.display.Image object>"
      ]
     },
     "metadata": {},
     "output_type": "display_data"
    },
    {
     "data": {
      "image/jpeg": "[encoded data removed]",
      "text/plain": [
       "<IPython.core.display.Image object>"
      ]
     },
     "metadata": {},
     "output_type": "display_data"
    },
    {
     "data": {
      "image/jpeg": "[encoded data removed]",
      "text/plain": [
       "<IPython.core.display.Image object>"
      ]
     },
     "metadata": {},
     "output_type": "display_data"
    },
    {
     "data": {
      "image/jpeg": "[encoded data removed]",
      "text/plain": [
       "<IPython.core.display.Image object>"
      ]
     },
     "metadata": {},
     "output_type": "display_data"
    },
    {
     "data": {
      "image/jpeg": "[encoded data removed]",
      "text/plain": [
       "<IPython.core.display.Image object>"
      ]
     },
     "metadata": {},
     "output_type": "display_data"
    },
    {
     "data": {
      "image/jpeg": "[encoded data removed]",
      "text/plain": [
       "<IPython.core.display.Image object>"
      ]
     },
     "metadata": {},
     "output_type": "display_data"
    },
    {
     "data": {
      "image/jpeg": "[encoded data removed]",
      "text/plain": [
       "<IPython.core.display.Image object>"
      ]
     },
     "metadata": {},
     "output_type": "display_data"
    },
    {
     "data": {
      "image/jpeg": "[encoded data removed]",
      "text/plain": [
       "<IPython.core.display.Image object>"
      ]
     },
     "metadata": {},
     "output_type": "display_data"
    },
    {
     "data": {
      "image/jpeg": "[encoded data removed]",
      "text/plain": [
       "<IPython.core.display.Image object>"
      ]
     },
     "metadata": {},
     "output_type": "display_data"
    },
    {
     "data": {
      "image/jpeg": "[encoded data removed]",
      "text/plain": [
       "<IPython.core.display.Image object>"
      ]
     },
     "metadata": {},
     "output_type": "display_data"
    },
    {
     "data": {
      "image/jpeg": "[encoded data removed]",
      "text/plain": [
       "<IPython.core.display.Image object>"
      ]
     },
     "metadata": {},
     "output_type": "display_data"
    },
    {
     "data": {
      "image/jpeg": "[encoded data removed]",
      "text/plain": [
       "<IPython.core.display.Image object>"
      ]
     },
     "metadata": {},
     "output_type": "display_data"
    },
    {
     "data": {
      "image/jpeg": "[encoded data removed]",
      "text/plain": [
       "<IPython.core.display.Image object>"
      ]
     },
     "metadata": {},
     "output_type": "display_data"
    },
    {
     "data": {
      "image/jpeg": "[encoded data removed]",
      "text/plain": [
       "<IPython.core.display.Image object>"
      ]
     },
     "metadata": {},
     "output_type": "display_data"
    },
    {
     "data": {
      "image/jpeg": "[encoded data removed]",
      "text/plain": [
       "<IPython.core.display.Image object>"
      ]
     },
     "metadata": {},
     "output_type": "display_data"
    },
    {
     "data": {
      "image/jpeg": "[encoded data removed]",
      "text/plain": [
       "<IPython.core.display.Image object>"
      ]
     },
     "metadata": {},
     "output_type": "display_data"
    },
    {
     "data": {
      "image/jpeg": "[encoded data removed]",
      "text/plain": [
       "<IPython.core.display.Image object>"
      ]
     },
     "metadata": {},
     "output_type": "display_data"
    },
    {
     "data": {
      "image/jpeg": "[encoded data removed]",
      "text/plain": [
       "<IPython.core.display.Image object>"
      ]
     },
     "metadata": {},
     "output_type": "display_data"
    },
    {
     "data": {
      "image/jpeg": "[encoded data removed]",
      "text/plain": [
       "<IPython.core.display.Image object>"
      ]
     },
     "metadata": {},
     "output_type": "display_data"
    },
    {
     "data": {
      "image/jpeg": "[encoded data removed]",
      "text/plain": [
       "<IPython.core.display.Image object>"
      ]
     },
     "metadata": {},
     "output_type": "display_data"
    },
    {
     "data": {
      "image/jpeg": "[encoded data removed]",
      "text/plain": [
       "<IPython.core.display.Image object>"
      ]
     },
     "metadata": {},
     "output_type": "display_data"
    },
    {
     "data": {
      "image/jpeg": "[encoded data removed]",
      "text/plain": [
       "<IPython.core.display.Image object>"
      ]
     },
     "metadata": {},
     "output_type": "display_data"
    },
    {
     "data": {
      "image/jpeg": "[encoded data removed]",
      "text/plain": [
       "<IPython.core.display.Image object>"
      ]
     },
     "metadata": {},
     "output_type": "display_data"
    },
    {
     "data": {
      "image/jpeg": "[encoded data removed]",
      "text/plain": [
       "<IPython.core.display.Image object>"
      ]
     },
     "metadata": {},
     "output_type": "display_data"
    },
    {
     "data": {
      "image/jpeg": "[encoded data removed]",
      "text/plain": [
       "<IPython.core.display.Image object>"
      ]
     },
     "metadata": {},
     "output_type": "display_data"
    },
    {
     "data": {
      "image/jpeg": "[encoded data removed]",
      "text/plain": [
       "<IPython.core.display.Image object>"
      ]
     },
     "metadata": {},
     "output_type": "display_data"
    },
    {
     "data": {
      "image/jpeg": "[encoded data removed]",
      "text/plain": [
       "<IPython.core.display.Image object>"
      ]
     },
     "metadata": {},
     "output_type": "display_data"
    },
    {
     "data": {
      "image/jpeg": "[encoded data removed]",
      "text/plain": [
       "<IPython.core.display.Image object>"
      ]
     },
     "metadata": {},
     "output_type": "display_data"
    },
    {
     "data": {
      "image/jpeg": "[encoded data removed]",
      "text/plain": [
       "<IPython.core.display.Image object>"
      ]
     },
     "metadata": {},
     "output_type": "display_data"
    },
    {
     "data": {
      "image/jpeg": "[encoded data removed]",
      "text/plain": [
       "<IPython.core.display.Image object>"
      ]
     },
     "metadata": {},
     "output_type": "display_data"
    },
    {
     "data": {
      "image/jpeg": "[encoded data removed]",
      "text/plain": [
       "<IPython.core.display.Image object>"
      ]
     },
     "metadata": {},
     "output_type": "display_data"
    },
    {
     "data": {
      "image/jpeg": "[encoded data removed]",
      "text/plain": [
       "<IPython.core.display.Image object>"
      ]
     },
     "metadata": {},
     "output_type": "display_data"
    },
    {
     "data": {
      "image/jpeg": "[encoded data removed]",
      "text/plain": [
       "<IPython.core.display.Image object>"
      ]
     },
     "metadata": {},
     "output_type": "display_data"
    }
   ],
   "source": [
    "display_label(\"默\", transform=lambda x: re_size(x.rotate(90)))"
   ]
  },
  {
   "cell_type": "code",
   "execution_count": null,
   "metadata": {
    "collapsed": true
   },
   "outputs": [],
   "source": []
  }
 ],
 "metadata": {
  "kernelspec": {
   "display_name": "Python 3",
   "language": "python",
   "name": "python3"
  },
  "language_info": {
   "codemirror_mode": {
    "name": "ipython",
    "version": 3
   },
   "file_extension": ".py",
   "mimetype": "text/x-python",
   "name": "python",
   "nbconvert_exporter": "python",
   "pygments_lexer": "ipython3",
   "version": "3.5.3"
  }
 },
 "nbformat": 4,
 "nbformat_minor": 2
}
